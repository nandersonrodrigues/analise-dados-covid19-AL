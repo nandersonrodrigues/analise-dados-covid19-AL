{
  "nbformat": 4,
  "nbformat_minor": 0,
  "metadata": {
    "colab": {
      "name": "projeto-python-pandas-covid19-AL.ipynb",
      "provenance": [],
      "collapsed_sections": [
        "qsjpmjkVqkLP",
        "YPuTn_41T1Ax",
        "R6ZghdEFUO1k",
        "epucP9hBVhtS",
        "0KwftBJQ79KQ",
        "U5lcuTLs93Y3",
        "vYcckpyp-myo",
        "1bbwcxZlTp8p",
        "F16o847gDm0s",
        "kXx8glN4HyGo",
        "QRNuEaLgE3eP",
        "es70UrSSq97y",
        "zmrs1cpJrQdo"
      ],
      "mount_file_id": "138Q2CO6fXV3XR9zcdJUsH_hrTC_JyrSA",
      "authorship_tag": "ABX9TyMhDnmuC9IfuZYFHe5z9VcG",
      "include_colab_link": true
    },
    "kernelspec": {
      "display_name": "Python 3",
      "name": "python3"
    },
    "language_info": {
      "name": "python"
    }
  },
  "cells": [
    {
      "cell_type": "markdown",
      "metadata": {
        "id": "view-in-github",
        "colab_type": "text"
      },
      "source": [
        "<a href=\"https://colab.research.google.com/github/nandersonrodrigues/analise-dados-covid19-AL/blob/main/projeto_python_pandas_covid19_AL.ipynb\" target=\"_parent\"><img src=\"https://colab.research.google.com/assets/colab-badge.svg\" alt=\"Open In Colab\"/></a>"
      ]
    },
    {
      "cell_type": "markdown",
      "metadata": {
        "id": "I1qyOFI8rKxe"
      },
      "source": [
        "## Exploração de dados da covid 19 no estado de Alagoas"
      ]
    },
    {
      "cell_type": "code",
      "metadata": {
        "id": "fkV_sksGPDML"
      },
      "source": [
        "import pandas as pd\n",
        "import numpy as np\n",
        "import matplotlib.pyplot as plt"
      ],
      "execution_count": null,
      "outputs": []
    },
    {
      "cell_type": "code",
      "metadata": {
        "colab": {
          "base_uri": "https://localhost:8080/",
          "height": 502
        },
        "id": "sAIiG2p5CAa_",
        "outputId": "500049f6-3fcf-466b-8a3d-df8bc890fcd5"
      },
      "source": [
        "df = pd.read_csv('drive/MyDrive/dados/dadosabertos.csv', encoding='utf-8', sep=';')\n",
        "df.head(10)"
      ],
      "execution_count": null,
      "outputs": [
        {
          "output_type": "execute_result",
          "data": {
            "text/html": [
              "<div>\n",
              "<style scoped>\n",
              "    .dataframe tbody tr th:only-of-type {\n",
              "        vertical-align: middle;\n",
              "    }\n",
              "\n",
              "    .dataframe tbody tr th {\n",
              "        vertical-align: top;\n",
              "    }\n",
              "\n",
              "    .dataframe thead th {\n",
              "        text-align: right;\n",
              "    }\n",
              "</style>\n",
              "<table border=\"1\" class=\"dataframe\">\n",
              "  <thead>\n",
              "    <tr style=\"text-align: right;\">\n",
              "      <th></th>\n",
              "      <th>SEXO</th>\n",
              "      <th>MUNICÍPIO DE RESIDÊNCIA</th>\n",
              "      <th>BAIRRO</th>\n",
              "      <th>CEP</th>\n",
              "      <th>CLASSIFICAÇÃO (Confirmado, suspeito, descartado, óbito, curado)</th>\n",
              "      <th>Comorbidades</th>\n",
              "      <th>Situação do paciente confirmado (UTI, isolamento domiciliar, enfermaria) ?</th>\n",
              "    </tr>\n",
              "  </thead>\n",
              "  <tbody>\n",
              "    <tr>\n",
              "      <th>0</th>\n",
              "      <td>F</td>\n",
              "      <td>MACEIÓ</td>\n",
              "      <td>PONTA GROSSA</td>\n",
              "      <td>57244000</td>\n",
              "      <td>CONFIRMADO</td>\n",
              "      <td>SEM COMORBIDADE</td>\n",
              "      <td>RECUPERADO</td>\n",
              "    </tr>\n",
              "    <tr>\n",
              "      <th>1</th>\n",
              "      <td>M</td>\n",
              "      <td>MACEIÓ</td>\n",
              "      <td>BOM PARTO</td>\n",
              "      <td>57051191</td>\n",
              "      <td>CONFIRMADO</td>\n",
              "      <td>DOENÇA PULMONAR CRÔNICA</td>\n",
              "      <td>RECUPERADO</td>\n",
              "    </tr>\n",
              "    <tr>\n",
              "      <th>2</th>\n",
              "      <td>M</td>\n",
              "      <td>MACEIÓ</td>\n",
              "      <td>TABULEIRO DO MARTINS</td>\n",
              "      <td>57017224</td>\n",
              "      <td>CONFIRMADO</td>\n",
              "      <td>NaN</td>\n",
              "      <td>RECUPERADO</td>\n",
              "    </tr>\n",
              "    <tr>\n",
              "      <th>3</th>\n",
              "      <td>M</td>\n",
              "      <td>MACEIÓ</td>\n",
              "      <td>SANTA LÚCIA</td>\n",
              "      <td>57036590</td>\n",
              "      <td>CONFIRMADO</td>\n",
              "      <td>NaN</td>\n",
              "      <td>RECUPERADO</td>\n",
              "    </tr>\n",
              "    <tr>\n",
              "      <th>4</th>\n",
              "      <td>M</td>\n",
              "      <td>MACEIÓ</td>\n",
              "      <td>LEVADA</td>\n",
              "      <td>57085799</td>\n",
              "      <td>CONFIRMADO</td>\n",
              "      <td>NaN</td>\n",
              "      <td>RECUPERADO</td>\n",
              "    </tr>\n",
              "    <tr>\n",
              "      <th>5</th>\n",
              "      <td>M</td>\n",
              "      <td>MACEIÓ</td>\n",
              "      <td>JATIÚCA</td>\n",
              "      <td>57071084</td>\n",
              "      <td>CONFIRMADO</td>\n",
              "      <td>NaN</td>\n",
              "      <td>RECUPERADO</td>\n",
              "    </tr>\n",
              "    <tr>\n",
              "      <th>6</th>\n",
              "      <td>M</td>\n",
              "      <td>MACEIÓ</td>\n",
              "      <td>JARDIM PETRÓPOLIS</td>\n",
              "      <td>57035690</td>\n",
              "      <td>CONFIRMADO</td>\n",
              "      <td>NaN</td>\n",
              "      <td>RECUPERADO</td>\n",
              "    </tr>\n",
              "    <tr>\n",
              "      <th>7</th>\n",
              "      <td>F</td>\n",
              "      <td>MACEIÓ</td>\n",
              "      <td>JATIÚCA</td>\n",
              "      <td>57080547</td>\n",
              "      <td>CONFIRMADO</td>\n",
              "      <td>NaN</td>\n",
              "      <td>RECUPERADO</td>\n",
              "    </tr>\n",
              "    <tr>\n",
              "      <th>8</th>\n",
              "      <td>F</td>\n",
              "      <td>MACEIÓ</td>\n",
              "      <td>PONTA VERDE</td>\n",
              "      <td>57036750</td>\n",
              "      <td>CONFIRMADO</td>\n",
              "      <td>HAS</td>\n",
              "      <td>RECUPERADO</td>\n",
              "    </tr>\n",
              "    <tr>\n",
              "      <th>9</th>\n",
              "      <td>M</td>\n",
              "      <td>MACEIÓ</td>\n",
              "      <td>JATIÚCA</td>\n",
              "      <td>NaN</td>\n",
              "      <td>CONFIRMADO</td>\n",
              "      <td>ASMA</td>\n",
              "      <td>RECUPERADO</td>\n",
              "    </tr>\n",
              "  </tbody>\n",
              "</table>\n",
              "</div>"
            ],
            "text/plain": [
              "  SEXO  ... Situação do paciente confirmado (UTI, isolamento domiciliar, enfermaria) ?\n",
              "0    F  ...                                         RECUPERADO                        \n",
              "1    M  ...                                         RECUPERADO                        \n",
              "2    M  ...                                         RECUPERADO                        \n",
              "3    M  ...                                         RECUPERADO                        \n",
              "4    M  ...                                         RECUPERADO                        \n",
              "5    M  ...                                         RECUPERADO                        \n",
              "6    M  ...                                         RECUPERADO                        \n",
              "7    F  ...                                         RECUPERADO                        \n",
              "8    F  ...                                         RECUPERADO                        \n",
              "9    M  ...                                         RECUPERADO                        \n",
              "\n",
              "[10 rows x 7 columns]"
            ]
          },
          "metadata": {
            "tags": []
          },
          "execution_count": 383
        }
      ]
    },
    {
      "cell_type": "markdown",
      "metadata": {
        "id": "qsjpmjkVqkLP"
      },
      "source": [
        "###Limpeza e ajustes"
      ]
    },
    {
      "cell_type": "code",
      "metadata": {
        "id": "ky7PlVw-lBnU"
      },
      "source": [
        "#ajuste dos nomes das colunas\n",
        "df = df.rename(columns={\n",
        "    \"SEXO\":\"sexo\",\n",
        "    \"MUNICÍPIO DE RESIDÊNCIA\":\"municipio_residencia\",\n",
        "    \"BAIRRO\":\"bairro\",\n",
        "    \"CEP\":\"cep\",\n",
        "    \"CLASSIFICAÇÃO (Confirmado, suspeito, descartado, óbito, curado)\":\"classificacao\",\n",
        "    \"Comorbidades\":\"comorbidades\",\n",
        "    \"Situação do paciente confirmado (UTI, isolamento domiciliar, enfermaria) ?\":\"situacao_paciente\"\n",
        "})"
      ],
      "execution_count": 546,
      "outputs": []
    },
    {
      "cell_type": "code",
      "metadata": {
        "colab": {
          "base_uri": "https://localhost:8080/",
          "height": 241
        },
        "id": "Gw6IOJ5emUWH",
        "outputId": "3658cb42-e342-465b-e645-8abccda08338"
      },
      "source": [
        "df.head()"
      ],
      "execution_count": 547,
      "outputs": [
        {
          "output_type": "execute_result",
          "data": {
            "text/html": [
              "<div>\n",
              "<style scoped>\n",
              "    .dataframe tbody tr th:only-of-type {\n",
              "        vertical-align: middle;\n",
              "    }\n",
              "\n",
              "    .dataframe tbody tr th {\n",
              "        vertical-align: top;\n",
              "    }\n",
              "\n",
              "    .dataframe thead th {\n",
              "        text-align: right;\n",
              "    }\n",
              "</style>\n",
              "<table border=\"1\" class=\"dataframe\">\n",
              "  <thead>\n",
              "    <tr style=\"text-align: right;\">\n",
              "      <th></th>\n",
              "      <th>sexo</th>\n",
              "      <th>municipio_residencia</th>\n",
              "      <th>bairro</th>\n",
              "      <th>cep</th>\n",
              "      <th>classificacao</th>\n",
              "      <th>comorbidades</th>\n",
              "      <th>situacao_paciente</th>\n",
              "    </tr>\n",
              "  </thead>\n",
              "  <tbody>\n",
              "    <tr>\n",
              "      <th>0</th>\n",
              "      <td>F</td>\n",
              "      <td>MACEIÓ</td>\n",
              "      <td>PONTA GROSSA</td>\n",
              "      <td>57244000</td>\n",
              "      <td>CONFIRMADO</td>\n",
              "      <td>SEM COMORBIDADE</td>\n",
              "      <td>RECUPERADO</td>\n",
              "    </tr>\n",
              "    <tr>\n",
              "      <th>1</th>\n",
              "      <td>M</td>\n",
              "      <td>MACEIÓ</td>\n",
              "      <td>BOM PARTO</td>\n",
              "      <td>57051191</td>\n",
              "      <td>CONFIRMADO</td>\n",
              "      <td>DOENÇA PULMONAR CRÔNICA</td>\n",
              "      <td>RECUPERADO</td>\n",
              "    </tr>\n",
              "    <tr>\n",
              "      <th>2</th>\n",
              "      <td>M</td>\n",
              "      <td>MACEIÓ</td>\n",
              "      <td>TABULEIRO DO MARTINS</td>\n",
              "      <td>57017224</td>\n",
              "      <td>CONFIRMADO</td>\n",
              "      <td>NaN</td>\n",
              "      <td>RECUPERADO</td>\n",
              "    </tr>\n",
              "    <tr>\n",
              "      <th>3</th>\n",
              "      <td>M</td>\n",
              "      <td>MACEIÓ</td>\n",
              "      <td>SANTA LÚCIA</td>\n",
              "      <td>57036590</td>\n",
              "      <td>CONFIRMADO</td>\n",
              "      <td>NaN</td>\n",
              "      <td>RECUPERADO</td>\n",
              "    </tr>\n",
              "    <tr>\n",
              "      <th>4</th>\n",
              "      <td>M</td>\n",
              "      <td>MACEIÓ</td>\n",
              "      <td>LEVADA</td>\n",
              "      <td>57085799</td>\n",
              "      <td>CONFIRMADO</td>\n",
              "      <td>NaN</td>\n",
              "      <td>RECUPERADO</td>\n",
              "    </tr>\n",
              "  </tbody>\n",
              "</table>\n",
              "</div>"
            ],
            "text/plain": [
              "  sexo municipio_residencia  ...             comorbidades situacao_paciente\n",
              "0    F               MACEIÓ  ...          SEM COMORBIDADE        RECUPERADO\n",
              "1    M               MACEIÓ  ...  DOENÇA PULMONAR CRÔNICA        RECUPERADO\n",
              "2    M               MACEIÓ  ...                      NaN        RECUPERADO\n",
              "3    M               MACEIÓ  ...                      NaN        RECUPERADO\n",
              "4    M               MACEIÓ  ...                      NaN        RECUPERADO\n",
              "\n",
              "[5 rows x 7 columns]"
            ]
          },
          "metadata": {
            "tags": []
          },
          "execution_count": 547
        }
      ]
    },
    {
      "cell_type": "markdown",
      "metadata": {
        "id": "YPuTn_41T1Ax"
      },
      "source": [
        "#### campo sexo"
      ]
    },
    {
      "cell_type": "code",
      "metadata": {
        "colab": {
          "base_uri": "https://localhost:8080/"
        },
        "id": "YMbrdFK6uCiX",
        "outputId": "19ca8483-5e4d-4697-82a1-24fc5c074a1d"
      },
      "source": [
        "df['sexo'].unique()"
      ],
      "execution_count": 548,
      "outputs": [
        {
          "output_type": "execute_result",
          "data": {
            "text/plain": [
              "array(['F', 'M', <NA>], dtype=object)"
            ]
          },
          "metadata": {
            "tags": []
          },
          "execution_count": 548
        }
      ]
    },
    {
      "cell_type": "code",
      "metadata": {
        "id": "zCJHHOfJSXwr"
      },
      "source": [
        "filtro = df.sexo.isin([' F', 'f', 'Feminino'])\n",
        "df.loc[filtro] = 'F'"
      ],
      "execution_count": 549,
      "outputs": []
    },
    {
      "cell_type": "code",
      "metadata": {
        "id": "z-pIMVBlSZV8"
      },
      "source": [
        "filtro = df.sexo.isin(['HOSPITALIZADO', 'NÃO CONFIRMADO'])\n",
        "df.loc[filtro] = pd.NA"
      ],
      "execution_count": 550,
      "outputs": []
    },
    {
      "cell_type": "code",
      "metadata": {
        "colab": {
          "base_uri": "https://localhost:8080/"
        },
        "id": "SzNxAxCVRB52",
        "outputId": "c870b452-9f58-4a30-d699-102fb2b9e095"
      },
      "source": [
        "df['sexo'].unique()"
      ],
      "execution_count": 551,
      "outputs": [
        {
          "output_type": "execute_result",
          "data": {
            "text/plain": [
              "array(['F', 'M', <NA>], dtype=object)"
            ]
          },
          "metadata": {
            "tags": []
          },
          "execution_count": 551
        }
      ]
    },
    {
      "cell_type": "code",
      "metadata": {
        "colab": {
          "base_uri": "https://localhost:8080/"
        },
        "id": "UvsSjybjRG8x",
        "outputId": "adf5a100-8ae6-4545-94c8-4f81355047d0"
      },
      "source": [
        "df.groupby(['sexo']).sexo.count()"
      ],
      "execution_count": 552,
      "outputs": [
        {
          "output_type": "execute_result",
          "data": {
            "text/plain": [
              "sexo\n",
              "F    126768\n",
              "M    100812\n",
              "Name: sexo, dtype: int64"
            ]
          },
          "metadata": {
            "tags": []
          },
          "execution_count": 552
        }
      ]
    },
    {
      "cell_type": "code",
      "metadata": {
        "id": "dTpMJn0ESq90"
      },
      "source": [
        "filtro = df.sexo == 'HOSPITALIZADO'\n",
        "df.loc[filtro] = pd.NA"
      ],
      "execution_count": 553,
      "outputs": []
    },
    {
      "cell_type": "code",
      "metadata": {
        "colab": {
          "base_uri": "https://localhost:8080/"
        },
        "id": "57gHsK3rS-L5",
        "outputId": "ef684d5d-4bd2-4906-9d6c-cd1400ec9522"
      },
      "source": [
        "df.groupby(['sexo']).sexo.count()"
      ],
      "execution_count": 554,
      "outputs": [
        {
          "output_type": "execute_result",
          "data": {
            "text/plain": [
              "sexo\n",
              "F    126768\n",
              "M    100812\n",
              "Name: sexo, dtype: int64"
            ]
          },
          "metadata": {
            "tags": []
          },
          "execution_count": 554
        }
      ]
    },
    {
      "cell_type": "markdown",
      "metadata": {
        "id": "R6ZghdEFUO1k"
      },
      "source": [
        "#### campo municipio_residencia"
      ]
    },
    {
      "cell_type": "code",
      "metadata": {
        "colab": {
          "base_uri": "https://localhost:8080/"
        },
        "id": "pvUlXAzKUWr4",
        "outputId": "1f628a6c-b843-4349-e58d-c1e33f084d53"
      },
      "source": [
        "df['municipio_residencia'].unique()"
      ],
      "execution_count": 555,
      "outputs": [
        {
          "output_type": "execute_result",
          "data": {
            "text/plain": [
              "array(['MACEIÓ', 'PALMEIRA DOS ÍNDIOS', 'PORTO REAL DO COLÉGIO',\n",
              "       'MARECHAL DEODORO', 'RIO LARGO', 'SATUBA', 'BOCA DA MATA',\n",
              "       'UNIÃO DOS PALMARES', 'VIÇOSA', 'ARAPIRACA',\n",
              "       'SÃO MIGUEL DOS MILAGRES', 'IBATEGUARA', <NA>, 'MURICI', 'ANADIA',\n",
              "       'LIMOEIRO DE ANADIA', 'PILAR', 'CAPELA', 'MARIBONDO',\n",
              "       'BARRA DE SANTO ANTÔNIO', 'PARIPUEIRA', 'MARAGOGI',\n",
              "       'SANTA LUZIA DO NORTE', 'DELMIRO GOUVEIA', 'SÃO MIGUEL DOS CAMPOS',\n",
              "       'PIAÇABUÇU', 'SÃO SEBASTIÃO', \"OLHO D'ÁGUA DAS FLORES\",\n",
              "       'PORTO CALVO', 'ATALAIA', 'MATRIZ DE CAMARAGIBE', 'PENEDO',\n",
              "       'BARRA DE SÃO MIGUEL', 'LAGOA DA CANOA', 'CORURIPE',\n",
              "       'CAMPO ALEGRE', 'BRANQUINHA', 'PALESTINA', 'JUNQUEIRO',\n",
              "       'PAULO JACINTO', 'BATALHA', 'TAQUARANA', 'NOVO LINO',\n",
              "       'SANTANA DO IPANEMA', 'COLÔNIA LEOPOLDINA', 'JOAQUIM GOMES',\n",
              "       'TEOTÔNIO VILELA', 'JEQUIÁ DA PRAIA', 'JARAMATAIA',\n",
              "       'COQUEIRO SECO', 'MESSIAS', 'CAMPO GRANDE', 'SÃO JOSÉ DA LAJE',\n",
              "       'INHAPI', 'CAMPESTRE', 'CANAPI', 'FLEXEIRAS',\n",
              "       'SÃO LUÍS DO QUITUNDE', 'CACIMBINHAS', 'POÇO DAS TRINCHEIRAS',\n",
              "       'PINDOBA', 'MAJOR ISIDORO', 'CRAÍBAS', 'OLIVENÇA', 'CAJUEIRO',\n",
              "       'JAPARATINGA', 'IGACI', 'QUEBRANGULO', 'MONTEIRÓPOLIS',\n",
              "       'SÃO JOSÉ DA TAPERA', 'COITÉ DO NÓIA', 'PORTO DE PEDRAS',\n",
              "       \"Tanque D'Arca\", 'CARNEIROS', 'ROTEIRO', 'DOIS RIACHOS',\n",
              "       'MAR VERMELHO', 'PASSO DE CAMARAGIBE', 'FEIRA GRANDE', 'JACUÍPE',\n",
              "       'MARAVILHA', 'PIRANHAS', 'Santana do Ipanema', 'PÃO DE AÇÚCAR',\n",
              "       'SENADOR RUI PALMEIRA', \"OLHO D'ÁGUA DO CASADO\", 'FELIZ DESERTO',\n",
              "       'GIRAU DO PONCIANO', 'Limoeiro de Anadia', 'BELÉM',\n",
              "       'SANTANA DO MUNDAÚ', 'OURO BRANCO', 'MINADOR DO NEGRÃO',\n",
              "       'SÃO BRÁS', \"OLHO D'ÁGUA GRANDE\", 'JACARÉ DOS HOMENS', 'TRAIPU',\n",
              "       'ESTRELA DE ALAGOAS', 'JUNDIÁ', 'CHÃ PRETA', 'IGREJA NOVA',\n",
              "       'BELO MONTE', 'PARICONHA', 'Teotônio Vilela', 'ÁGUA BRANCA',\n",
              "       'MATA GRANDE', 'São Luís do Quitunde', 'Quebrangulo',\n",
              "       'Barra de São Miguel', 'Girau do Ponciano', 'Santa Luzia do Norte',\n",
              "       'Coité do Nóia', 'Poço das Trincheiras', 'Junqueiro'], dtype=object)"
            ]
          },
          "metadata": {
            "tags": []
          },
          "execution_count": 555
        }
      ]
    },
    {
      "cell_type": "code",
      "metadata": {
        "colab": {
          "base_uri": "https://localhost:8080/"
        },
        "id": "dAYswOzEUtz5",
        "outputId": "004bae45-4842-4970-dd09-766a1a055cbb"
      },
      "source": [
        "df.groupby('municipio_residencia').municipio_residencia.count()"
      ],
      "execution_count": 556,
      "outputs": [
        {
          "output_type": "execute_result",
          "data": {
            "text/plain": [
              "municipio_residencia\n",
              "ANADIA                     1443\n",
              "ARAPIRACA                 30289\n",
              "ATALAIA                    1199\n",
              "BARRA DE SANTO ANTÔNIO      456\n",
              "BARRA DE SÃO MIGUEL         617\n",
              "                          ...  \n",
              "Tanque D'Arca               439\n",
              "Teotônio Vilela               1\n",
              "UNIÃO DOS PALMARES         2425\n",
              "VIÇOSA                     1795\n",
              "ÁGUA BRANCA                 529\n",
              "Name: municipio_residencia, Length: 113, dtype: int64"
            ]
          },
          "metadata": {
            "tags": []
          },
          "execution_count": 556
        }
      ]
    },
    {
      "cell_type": "markdown",
      "metadata": {
        "id": "epucP9hBVhtS"
      },
      "source": [
        "#### campo bairro"
      ]
    },
    {
      "cell_type": "code",
      "metadata": {
        "colab": {
          "base_uri": "https://localhost:8080/"
        },
        "id": "ANLiAhKYVtYG",
        "outputId": "e9fb5275-6a9c-47bf-a43e-3afea4c924af"
      },
      "source": [
        "df.groupby('bairro').bairro.count()"
      ],
      "execution_count": 557,
      "outputs": [
        {
          "output_type": "execute_result",
          "data": {
            "text/plain": [
              "bairro\n",
              "  CENTRO                 1\n",
              " BAIRRO NOVO             1\n",
              " CENTRO                  3\n",
              " ELDORADO                1\n",
              " FLORESTA                1\n",
              "                      ... \n",
              "ZUMBI DOS PALMARES       7\n",
              "ZÉLIA BARBOSA ROCHA    782\n",
              "ÁGUA DE MENINO           5\n",
              "ÁREA RURAL               4\n",
              "ÁREA VERDE               9\n",
              "Name: bairro, Length: 2088, dtype: int64"
            ]
          },
          "metadata": {
            "tags": []
          },
          "execution_count": 557
        }
      ]
    },
    {
      "cell_type": "code",
      "metadata": {
        "id": "gRZsQkufTVMg"
      },
      "source": [
        "df.bairro = df.bairro.str.upper()"
      ],
      "execution_count": 558,
      "outputs": []
    },
    {
      "cell_type": "code",
      "metadata": {
        "colab": {
          "base_uri": "https://localhost:8080/"
        },
        "id": "4BhUiJ6jT9Q3",
        "outputId": "e4333285-ee1f-48ef-89bd-d1cb6ca179e5"
      },
      "source": [
        "df.groupby('bairro').bairro.count()"
      ],
      "execution_count": 559,
      "outputs": [
        {
          "output_type": "execute_result",
          "data": {
            "text/plain": [
              "bairro\n",
              "  CENTRO                 1\n",
              " BAIRRO NOVO             1\n",
              " CENTRO                  3\n",
              " ELDORADO                1\n",
              " FLORESTA                1\n",
              "                      ... \n",
              "ZUMBI DOS PALMARES       7\n",
              "ZÉLIA BARBOSA ROCHA    782\n",
              "ÁGUA DE MENINO           5\n",
              "ÁREA RURAL               4\n",
              "ÁREA VERDE               9\n",
              "Name: bairro, Length: 2088, dtype: int64"
            ]
          },
          "metadata": {
            "tags": []
          },
          "execution_count": 559
        }
      ]
    },
    {
      "cell_type": "markdown",
      "metadata": {
        "id": "0KwftBJQ79KQ"
      },
      "source": [
        "#### campo cep"
      ]
    },
    {
      "cell_type": "code",
      "metadata": {
        "colab": {
          "base_uri": "https://localhost:8080/"
        },
        "id": "0kCkhp597_j5",
        "outputId": "c1ee077c-807e-44e9-dca3-1b267f40384a"
      },
      "source": [
        "df['cep'].unique()"
      ],
      "execution_count": 560,
      "outputs": [
        {
          "output_type": "execute_result",
          "data": {
            "text/plain": [
              "array(['57244000', '57051191', '57017224', ..., '57604257', '58400002',\n",
              "       '13140786'], dtype=object)"
            ]
          },
          "metadata": {
            "tags": []
          },
          "execution_count": 560
        }
      ]
    },
    {
      "cell_type": "code",
      "metadata": {
        "colab": {
          "base_uri": "https://localhost:8080/"
        },
        "id": "6CQfi3wh8JPz",
        "outputId": "9b3d2970-2399-4725-85ce-034cd7f27c14"
      },
      "source": [
        "#nota-se alguns ceps inválidos\n",
        "df.groupby(['cep']).cep.count()"
      ],
      "execution_count": 561,
      "outputs": [
        {
          "output_type": "execute_result",
          "data": {
            "text/plain": [
              "cep\n",
              "                             1\n",
              "10040726                     1\n",
              "10042021                     1\n",
              "10051985                     1\n",
              "10061940                     1\n",
              "                            ..\n",
              "NOSSA SENHORA DA PENHA       1\n",
              "PEDRO ZE ALEXANDRE           1\n",
              "Resultados da Web            1\n",
              "Resultados da pesquisa       1\n",
              "Trecho da Web em destaque    7\n",
              "Name: cep, Length: 9946, dtype: int64"
            ]
          },
          "metadata": {
            "tags": []
          },
          "execution_count": 561
        }
      ]
    },
    {
      "cell_type": "code",
      "metadata": {
        "id": "j2IgBer48dWf"
      },
      "source": [
        "filtro = df.cep.isin(['', '\\'', '0', '\\''])\n",
        "df['cep'].loc[filtro] = pd.NA"
      ],
      "execution_count": 562,
      "outputs": []
    },
    {
      "cell_type": "code",
      "metadata": {
        "colab": {
          "base_uri": "https://localhost:8080/"
        },
        "id": "thfzeLpZ9agf",
        "outputId": "5118bfb9-7f85-4f75-a5b4-5c780eb129ff"
      },
      "source": [
        "df.groupby(['cep']).cep.count()"
      ],
      "execution_count": 563,
      "outputs": [
        {
          "output_type": "execute_result",
          "data": {
            "text/plain": [
              "cep\n",
              "                             1\n",
              "10040726                     1\n",
              "10042021                     1\n",
              "10051985                     1\n",
              "10061940                     1\n",
              "                            ..\n",
              "NOSSA SENHORA DA PENHA       1\n",
              "PEDRO ZE ALEXANDRE           1\n",
              "Resultados da Web            1\n",
              "Resultados da pesquisa       1\n",
              "Trecho da Web em destaque    7\n",
              "Name: cep, Length: 9946, dtype: int64"
            ]
          },
          "metadata": {
            "tags": []
          },
          "execution_count": 563
        }
      ]
    },
    {
      "cell_type": "markdown",
      "metadata": {
        "id": "U5lcuTLs93Y3"
      },
      "source": [
        "#### campo classificacao"
      ]
    },
    {
      "cell_type": "code",
      "metadata": {
        "colab": {
          "base_uri": "https://localhost:8080/"
        },
        "id": "FIw7J_Uy96k6",
        "outputId": "b89ea5be-1f2a-4b37-c838-68a687342bb3"
      },
      "source": [
        "df['classificacao'].unique()"
      ],
      "execution_count": 565,
      "outputs": [
        {
          "output_type": "execute_result",
          "data": {
            "text/plain": [
              "array(['CONFIRMADO', <NA>], dtype=object)"
            ]
          },
          "metadata": {
            "tags": []
          },
          "execution_count": 565
        }
      ]
    },
    {
      "cell_type": "code",
      "metadata": {
        "colab": {
          "base_uri": "https://localhost:8080/"
        },
        "id": "HVWGtRiO-F25",
        "outputId": "dccca594-d7c0-4262-f966-311b60f40153"
      },
      "source": [
        "df.groupby(['classificacao']).classificacao.count()"
      ],
      "execution_count": 566,
      "outputs": [
        {
          "output_type": "execute_result",
          "data": {
            "text/plain": [
              "classificacao\n",
              "CONFIRMADO    227580\n",
              "Name: classificacao, dtype: int64"
            ]
          },
          "metadata": {
            "tags": []
          },
          "execution_count": 566
        }
      ]
    },
    {
      "cell_type": "code",
      "metadata": {
        "id": "2eyBqFp3EyLH"
      },
      "source": [
        "filtro = df.classificacao.isin(['F'])\n",
        "df.loc[filtro] = 'NÃO CONFIRMADO'"
      ],
      "execution_count": 567,
      "outputs": []
    },
    {
      "cell_type": "code",
      "metadata": {
        "colab": {
          "base_uri": "https://localhost:8080/"
        },
        "id": "lnLSVjzzFleS",
        "outputId": "97c1940a-d3f9-4222-dd28-54bc054506f5"
      },
      "source": [
        "df['classificacao'].unique()"
      ],
      "execution_count": 568,
      "outputs": [
        {
          "output_type": "execute_result",
          "data": {
            "text/plain": [
              "array(['CONFIRMADO', <NA>], dtype=object)"
            ]
          },
          "metadata": {
            "tags": []
          },
          "execution_count": 568
        }
      ]
    },
    {
      "cell_type": "markdown",
      "metadata": {
        "id": "vYcckpyp-myo"
      },
      "source": [
        "#### campo comorbidades"
      ]
    },
    {
      "cell_type": "code",
      "metadata": {
        "id": "jeFnrkb9-o78",
        "colab": {
          "base_uri": "https://localhost:8080/"
        },
        "outputId": "396b40cc-a9d1-456b-b7d0-e8a454d7dcd7"
      },
      "source": [
        "df['comorbidades'].unique()"
      ],
      "execution_count": 569,
      "outputs": [
        {
          "output_type": "execute_result",
          "data": {
            "text/plain": [
              "array(['SEM COMORBIDADE', 'DOENÇA PULMONAR CRÔNICA', nan, 'HAS', 'ASMA',\n",
              "       'DIABETES MELLITUS/HAS', 'CARDIOPATIA', 'RENAL CRÔNICO',\n",
              "       'DIABETES', 'FIBROSE PULMONAR/DM/HAS', 'OBESIDADE',\n",
              "       'DIABETES MELLITUS/HAS/DM/DPOC/INSU CARDIACA/ANEMIA/HIPERPLASIA PROSTATICA/EX TABAGISTE E ETILISTA',\n",
              "       'HAS, OBESIDADE E ASMA', 'HAS/DIA', 'DOENÇA CARDIOVASCULAR',\n",
              "       'DIABETES/CARDIOPATIA', 'DM/HAS/CARDIOPATIA', 'LÚPUS',\n",
              "       'HAS/DIABETES', <NA>, 'HAS / CADIOPATA', 'FIBROMIALGIA',\n",
              "       'DIABETES ', 'DIABETES  / HAS', 'DIABETES / CARDIOPATIA',\n",
              "       'DIABETES  / DOENÇA CÁRDIACA CRÔNICA', 'HAS / TABAGISTA',\n",
              "       'DIABETES MELLITUS/ DOENÇA CARDIACA / RESPIRATÓRIA CRÔNICA',\n",
              "       'HIPOTIROIDISMO', 'PNEUMOPATIA',\n",
              "       'DEPENDENTE QUÍMICO / HIPOFOSFATEMIA CRÔNICA', 'DIABETES MELLITUS',\n",
              "       'DIABETES  CARDIOPATIA',\n",
              "       'DOENÇA CROMOSSOMICA / DOENÇA CARDÍACA CRÔNICA / FRAGILIDADE IMUNOLÓGICA',\n",
              "       'HAS /DIABETES / OBESIDADE', 'DOENÇA CARDÍACA CRÔNICA',\n",
              "       'OBESIDADE / HAS', 'DIABETES / DOENÇA CARDIACA CRÔNICA',\n",
              "       'HAS / DIABETES ', 'DIABETES,  HAS, CARDIOPATIA', 'DIABETES/HAS',\n",
              "       'TABAGISTA', 'DOENÇA CARDÍACA', 'DIABETES / HAS',\n",
              "       'CARDIOPATIA / DIABETES', 'DIABETES, OBESIDADE', 'DOENÇA HAPÁTICA',\n",
              "       'DIABETES / HAS / DOENÇA RENAL CRÔNICA', 'EM INVESTIGAÇÃO',\n",
              "       'DIABETES, HAS, CARDIOPATIA', 'HAS / CARIOPATIA', 'OUTROS',\n",
              "       'DIABETES / HAS / OBESIDADE', 'IMUNODEPRIMIDA',\n",
              "       'CARDIOPATIA / HAS', 'HAS / DIABETES',\n",
              "       'IMUNOSSUPRESSÃO, PORTADOR DE DOENÇAS CROMOSSÓMICAS OU ESTADO DE FRAGILIDADE IMUNOLÓGICA',\n",
              "       'SEM INFORMAÇÃO', 'DOENÇAS CARDÍACAS CRÔNICAS, DIABETES',\n",
              "       'DOENÇAS CARDÍACAS CRÔNICAS',\n",
              "       'DOENÇAS RESPIRATÓRIAS CRÔNICAS DESCOMPENSADAS', 'IMUNOSSUPRESSÃO',\n",
              "       'HIPOCAUSIA / OLIGOFRENIA', 'DESCOMPENSADAS',\n",
              "       'DM, D. CARDIACA CRÔNICA', 'DIABETES / HAS / CARDIOPATIA',\n",
              "       'DM. D.RENAL C.( EST. 3,4/5)', 'D. CARDIACA CRÔNICA/ DM',\n",
              "       'D. CARDIACA CRÔNICA ', 'D. RENAIS CRÔNICA',\n",
              "       'DIABETES, DOENÇAS RENAIS CRÔNICAS EM ESTÁGIO AVANÇADO (GRAUS 3, 4 OU 5), IMUNOSSUPRESSÃO',\n",
              "       'CARDIOPATIA / HAS / DIABETES', 'DISBETES / HAS / CARDIOPATIA',\n",
              "       'ONCOLOGICO', 'DIABETES MELLITUS / HAS', 'DOENÇA RENAL CRÔNICA',\n",
              "       'DOENÇA RESPIRATÓRIA CRÔNICA', 'DIABETES-DOENÇA CARDÍACA CRÔNICA',\n",
              "       'CARDIOPATIA / OBESIDADE / PNEUMOPATIA',\n",
              "       'DIABETES / DOENÇA CARDIACA CRONICA', 'DIABETES / OBESIDADE',\n",
              "       'IMUNO SUPRESSÃO', 'D. RESP CRÔNICAS', 'DM',\n",
              "       'DM/ D. CARCIACA CRÔNICAS', 'D. CARDIACA CRONICA',\n",
              "       'DOENÇA CARDÍACA E RESPIRATÓRIA  CRÔNICA ',\n",
              "       'DOENÇA RESPIRATÓRIA CRÔNICA / DIABETES',\n",
              "       'DIABETES-DOENÇAS CARDÍACA E REPIRATÓRIA CRÔNICA',\n",
              "       'HAS / OBESIDADE', 'CARDIOPATIA / RENAL CRÔNICO',\n",
              "       'DOEÇAS CARDÍACA  E RESPIRATÓRIA CRÔNICAS',\n",
              "       'Doenças cardíacas crônicas', 'DIABETES/DOENÇA CARDÍACA CRÔNICA',\n",
              "       'Doenças cardíacas crônicas, Diabetes',\n",
              "       'Doenças respiratórias crônicas descompensadas',\n",
              "       'Doenças respiratórias crônicas descompensadas\\n\\n',\n",
              "       'Diabetes, Doenças renais crônicas em estágio avançado (graus 3, 4 ou 5)',\n",
              "       'DOENÇA CROMOSSÔMICA/FRAGILIFAFR IMUNOLÓGICA',\n",
              "       'Diabetes, Doenças cardíacas crônicas',\n",
              "       'Doenças cardíacas crônicas\\n\\n', 'DOENÇA RESPIRATÓRIA',\n",
              "       'DOENÇAS CARDÍACAS CRÔNICAS, DIABETES, DOENÇAS RENAIS CRÔNICAS EM ESTÁGIO AVANÇADO (GRAUS 3, 4 OU 5)',\n",
              "       'Doenças renais crônicas em estágio avançado (graus 3, 4 ou 5)',\n",
              "       'HAS,DM,ASMA', 'ANOREXIA ',\n",
              "       'Doenças renais crônicas em estágio avançado (graus 3, 4 ou 5), Doenças cardíacas crônicas',\n",
              "       'EVOLUÇÃO DO COMPROMETIMENTO PULMONAR;', 'DM,HAS',\n",
              "       'DOENÇAS RESPIRATORIA CRÔNICAS',\n",
              "       'DIABETES, DOENÇAS CARDIACAS CRÔNICAS',\n",
              "       'DOENÇAS CARDIACAS CRÔNICAS', 'DOENÇAS RESPIRATOIAS CRÔNICAS ',\n",
              "       'DIABETES,DOENÇA CARDÍACA CRÔNICA',\n",
              "       'Portador de doenças cromossômicas ou estado de fragilidade imunológica',\n",
              "       'GRUTA DE LOURDES', 'PUÉRPERA',\n",
              "       'HAS / DOENÇA NEUROLÓGICA / DEPRESSÃO, IMOBILIDADE, PARKINSON',\n",
              "       'IMUNOSUPRESSÃO', 'IMUNOSSUPRESSÃO, DOENÇA RENAL CRÔNICA',\n",
              "       'DIABETES,DOENÇA CARDÍACA CRÔNICA,DOENÇA RENAL',\n",
              "       'DIABETES,DOENÇA CARDÍACA CRÔNICA, IMUNOSSUPRESSÃO',\n",
              "       'DOEN. RESP. CRÔNICAS DESC.',\n",
              "       'DIABETES, DOENÇAS CARDIACAS CRÔNICAS DESCOMPENSADAS',\n",
              "       'DOENÇAS RESPIRATORIAS CRÔNICAS DESCOMPENSADAS',\n",
              "       'DOENÇAS RESPIRATOIAS CRÔNICAS DESCOMPENSADAS, DOENÇAS CARDIACAS CRÔNICAS ',\n",
              "       'AVC', 'DIABETES / CARDIOPATIA / IMUNOSSUPRESSÃO',\n",
              "       'AVE DOENÇA PULMONAR OBSTRUTIVA CRÔNICA / PNEUMOPATIA',\n",
              "       'DIABETES, DOENÇAS CARDIADAS CRÔNICAS',\n",
              "       'DOENÇAS CARDIACAS CRÔNICAS, DIABETES',\n",
              "       'DOENÇAS CARDIACAS CRONICAS',\n",
              "       'DIABETES, DOENÇAS CARDIACAS CRONICAS, DOENÇAS RENAIS CRÔNICAS EM ESTAGIO AVANÇADO',\n",
              "       'PORTADOR DE DOENÇAS CROMOSSOMICAS OU ESTADO DE FRAGILIDADE IMUNOLOGICA',\n",
              "       'DM/ DOENÇA CARD. CRONICA', 'DIABETES, DOENÇAS CARDÍACAS CRÔNICAS',\n",
              "       'DOENÇA RENAL CRONICA', 'DIABETES / HAS / OSTEOMELITE',\n",
              "       'HAS / CARDIOPATIA', 'CADIOPATIA / DIABETES',\n",
              "       'DOENCAS CROMOSSOMICAS OU ESTADO DE FRAGILIDADE IMUNOLOGICA',\n",
              "       'DIABETES / AVC', 'DIABETES / HAS / EPILEPSIA',\n",
              "       'DIABETES / HAS / SEQUELA DE AVC', 'PACIENTE ONCOLÓGICO',\n",
              "       'IMUNODEFICIÊNCIA E RENAL CRÔNICO', 'DIABETES / HAS / PNEUMOPATIA',\n",
              "       'DIABETES / PNEUMOPATIA', 'CARDIOPATIA / DIABETES / ARTRITE',\n",
              "       'DIABETES / HAS / DOENÇA DE CHAGAS', 'ETILISMO',\n",
              "       'DIABETES / DOENÇA RENAL CRÔNICA',\n",
              "       'SÍNDROME DE WEST, PARALISIA CEREBRAL',\n",
              "       'CARDIOPATIA / TUBERCULOSE',\n",
              "       'DIABETES / HAS / OBESIDADE / DOENÇA RENAL CRÔNICA',\n",
              "       'CARDIOPATIA / DIABETES / HAS / DOENÇA AUTO IMUNE / PNEUMOPATIA / ASMA',\n",
              "       'PNEUMOPATIA / LEUCEMIA', 'INSUFICIÊNCIA RENAL',\n",
              "       'DIABETES / HAS / DOENÇA RENAL', 'CARDIOPATIA / DIABETES / HAS',\n",
              "       'DIABETES / HAS / AVC', 'DIABETES / CARDIOPATIA / PARKINSON',\n",
              "       'HAS / DOENÇA NEUROLÓGICA', 'DIABETES / PNEUMOPATIA / HEPATOPATIA',\n",
              "       'DIABETES / HAS / PACIENTE ONCOLÓGICO',\n",
              "       'DIABETES / OBESIDADE / PNEUMOPATIA',\n",
              "       'DIABETES / CARDIOPATIA / OBESIDADE', 'CÂNCER DE PULMÃO',\n",
              "       'HAS / RENAL CRÔNICO', 'DOENÇA HEPÁTICA CRÔNICA', 'PÚRPURA',\n",
              "       'DOENÇA HEPATÍTICA CRÔNICA', 'DIABETES / HAS / HEPATOPATIA',\n",
              "       'IMUNODEPRESSÃO', 'CARDIOPATIA / HAS / PNEUMOPATIA / SEQUELA AVC',\n",
              "       'CARDIOPATIA / DOENÇA RENAL CRÔNICA', 'DOENÇA NEROLÓGICA',\n",
              "       'DIABETES / PNEUMOPATIA / DOENÇA NEUROLÓGICA / TABAGISMO',\n",
              "       'PNEUMOPATIA / LINFOMA', 'CARDIOPATIA/DIABETES/HAS/OBESIDADE',\n",
              "       'CARDIOPATIA / TROMBOSE', 'HAS / OBESIDADE / PNEUMOPATIA',\n",
              "       'CARDIOPATIA / TABAGISMO', 'HAS / PACIENTE ONCOLÓGICO',\n",
              "       'CARDIOPATIA / DIABETES / PNEUMOPATIA', 'CARDIOPATIA ',\n",
              "       'DOENÇA AUTO IMUNE', 'CARDIOPATIA / PACIENTE ONCOLÓGICO',\n",
              "       'DIABETES / LEUCEMIA', 'HAS / DOENÇA RENAL CRÔNICA',\n",
              "       'DIABETES / HAS / ESQUIZOFRENIA',\n",
              "       'CARDIOPATIA / DIABETES / DOENÇA RENAL CRÔNICA',\n",
              "       'CARDIOPATIA / DOENÇA RENAL CRÔNICA / DIABETES',\n",
              "       'HAS / PNEUMOPATIA', 'CARDIOPATIA / DIABETESS',\n",
              "       'DIABETES / HAS / DOENÇA NEUROLÓGICA',\n",
              "       'CARDIOPATIA / PNEUMOPATIA / OSTEOARTROSE', 'CARDIOPATIA/HAS',\n",
              "       'CARDIOPATIA / DIABETES ',\n",
              "       'CARDIOPATIA / PNEUMOPATIA / DOENÇA RESPIRATÓRIA CRÔNICA',\n",
              "       'DOENÇA RENAL CRÔNICA / IMUNOSUPRESSÃO', 'ALZHEIMER',\n",
              "       'DIABETES / HAS / OBESIDADE / DOENÇA NEUROLÓGICA',\n",
              "       'CARDIOPATIO / DIABETES / PNEUMOPATIA',\n",
              "       'DIABETES / IMUNODEPRESSÃO', 'DIABETES / DOENÇA AUTO IMUNE',\n",
              "       'DOENÇA RENAL CRÔNICA / PNEUMOPATIA', 'DOENÇA NEUROLÓGICA',\n",
              "       'OBESIDADE / PNEUMOPATIA',\n",
              "       'CARDIOPATIA / HAS / DOENÇA AUTO IMUNE / DOENÇA HEPÁTICA CRÔNICA',\n",
              "       'DOENÇA CROMOSSÔMICA', 'CARDIOPATIA / DIABETES / HAS / OBESIDADE',\n",
              "       'CARDIOPATIA / PNEUMOPATIA', 'HAS / PNEUMOPATIA / ASMA',\n",
              "       'DIABETES / HAS / ALZHEIMER', 'ETILISTA',\n",
              "       'CARDIOPATIA / DIABETES / OBESIDADE', 'CARDIOPATIA / HAS ',\n",
              "       'PNEUMOPATIA / SEQUELA AVC', 'CARDIOPATIA / IMUNODEPRESSÃO',\n",
              "       'HAS / HIPOTIROIDISMO', 'AVE',\n",
              "       'CARDIOPATIA / DIABETES / HAS / PNEUMOPATIA',\n",
              "       'DIABETES / HAS / OBESIDADE / PNEUMOPATIA',\n",
              "       'CARDIOPATIA / DIABETES / DOENÇA RENAL CRÔNICA / PNEUMOPATIA',\n",
              "       'HAS / OBESIDADE / IMUNODEPRESSÃO / TABAGISTA',\n",
              "       'CARDIOPATIA / HAS / DOENÇA AUTO IMUNE', 'DIABETES /  CARDIOPATIA',\n",
              "       'HAS / ETILISTA CRÔNICO', 'CARDIOPATIA / HAS / PNEUMOPATIA',\n",
              "       'CARDIOPATIA / OBESIDADE / DOENÇA RENAL CRÔNICA',\n",
              "       'DOENÇA AUTO IMUNE / PNEUMOPATIA',\n",
              "       'DIABETES / HAS / PNEUMOPATIA / DPOC',\n",
              "       'HAS / PACIENTE ONCOLÓGICO / OBESIDADE',\n",
              "       'DIABETES / HAS / TRANSPLANTADO', 'CADIOPATIA / DIABETES /HAS',\n",
              "       'DOENÇA AUTO IMUNE / EX TABAGISTA / ANEURISMA DE AORTA ABDOMINAL ',\n",
              "       'PNEUMOPATIA / DPOC', 'CARDIOPARIA / PNEUMOPATIA',\n",
              "       'DIABETES / HAS / DOENÇA NEUROLÓGIA CRÔNICA / SEQUELA DE AVE',\n",
              "       'HAS/DOENÇA RENAL CÔNICA/IMUNOSUPRESSÃO',\n",
              "       'DIABETES / ARTRITE REUMATÓIDE',\n",
              "       'CARDIOPATIA / DIABETES / DOENÇA HEPÁTICA CRÔNICA',\n",
              "       'DIABETES / IMUNOSUPRESSÃO', 'GLAUCOMA',\n",
              "       'DIABETES / DOENÇA NEUROLÓGICA', 'DOENÇA NEUROLÓGICA / ALZHEIMER',\n",
              "       'CARDIOPATIA / DIABETES / HAS / PACIENTE ONCOLÓGICO',\n",
              "       'EM INVESTIGAÇÃO ', 'CARDIOPATIA / HAS / EX-TABAGISTA',\n",
              "       'DIABETES / DOENÇA RENAL CRÔNICA / PNEUMOPATIA / DOENÇA NEUROLÓGICA',\n",
              "       'CARDIOPATIA / DOENÇA NEUROLOGICA',\n",
              "       'CARDIOPATIA / DIABETES / OBESIDADE / DOENÇA RENAL CRÔNICA',\n",
              "       'DIABESTES / HAS', 'DIABESTES / HAS / OBESIDADE',\n",
              "       'NEOPLASIA TESTICULAR / PACIENTE ONCOLÓGICO',\n",
              "       'ALZHEIMER, ANQUILOSE', 'DIABETES / HAS / PNEUMOPATIA / ASMA',\n",
              "       'DIABETES / DOENÇA HEPÁTICA CRÔNICA', 'CADIOPATIA',\n",
              "       ' DOENÇA RENAL CRÔNICA',\n",
              "       'DIABETES / HAS / DOENÇA DE ALZHEIMER E PARKINSON ', 'DESNUTRIÇÃO',\n",
              "       'DIABETES / HAS / DOENÇA HEPÁTICA CRÔNICA',\n",
              "       'DOENÇA DE CHAGAS / DOENÇA NEUROLÓGICA / DIABETES',\n",
              "       'HAS / DOENÇA AUTO IMUNE', 'HAS / DIABETES / DOENÇA RENAL CRÔNICA',\n",
              "       'OBESIDADE / PNEUMOPATIA / ASMA', 'SEQUELAS DE AVC',\n",
              "       'DIABETES / TABAGISMO', 'HAS / OBESIDADE / PNEUMOPATIA / ASMA',\n",
              "       'CARDIOPATIA / DIABETES / HAS ',\n",
              "       'PNEUMOPATIA / TABAGISMO E DOENÇA RESPIRATÓRIA CRONICA',\n",
              "       'DEPRESSÃO', 'CARDIOPATIA / OBESIDADE',\n",
              "       'CARDIOPATIA / DOENÇA NEUROLÓGICA',\n",
              "       'OBESIDADE / DOENÇA HOMEOPÁTICA CRÔNICA', 'DIABETES / HAS ',\n",
              "       'EX ETILISTA', 'DIABETES / OUTROS',\n",
              "       'HAS / PNEUMOPATA / INSUFICIÊNCIA VENOSA PERIFÉRICA',\n",
              "       'DOENÇA DE CROHN',\n",
              "       'HAS / DOENÇA NEUROLÓGICA / NEUROPATIA DEGENERATIVA',\n",
              "       'PNEUMOPATIA ', 'HAS/ DOENÇA NEROLÓGICA',\n",
              "       'DESCAMAÇÃO CUTÂNEA CRÔNICA', 'HAS /  DOENÇA NEUROLÓGICA',\n",
              "       'CADIOPATIA / DOENÇA RENAL CRÔNICA',\n",
              "       'CARDIOPATIA / DIABETES / DOENÇA RENAL CRÔNICA  / PNEUMOPATIA',\n",
              "       'DIABETES / DOENÇA NEUROLÓGICA / SEQUELA AVE', 'EX- TABAGISTA',\n",
              "       'DIABETES / SINDROME DE DOWN', 'HAS / DOENÇA PSIQUIÁTRICA',\n",
              "       'DIABETES / HAS / DONEÇA RENAL CRÔNICA', 'DIABTES',\n",
              "       'DIABETES / HAS / DOENÇA NEUROLÓGICA / AVC / PARKINSON',\n",
              "       'CARDIOPATIA / HAS / DOENÇA NEUROLÓGICA',\n",
              "       'CARDIOPATIA / DIABETES / HAS / DOENÇA NEUROLÓGICA',\n",
              "       'DIABETES / HAS / TABAGISTA',\n",
              "       'DOENÇA NEUROLÓGICA / HIDROCEFALIA / EPILEPSIA',\n",
              "       'CARDIOPATIA / DIABETES / DOENÇA NEUROLÓGICA',\n",
              "       'HAS / DOENÇA HEPATICA CRÔNICA',\n",
              "       'OBESIDADE / DOENÇA RENAL CRÔNICA / DOENÇA AUTO IMUNE',\n",
              "       'ÓBITO / OBESIDADE', 'CARDIOPATIA / HAS / OBESIDADE',\n",
              "       'CARDIOPATIA /  DIABETES / DOENÇA NEUROLÓGICA', 'Recuperado',\n",
              "       'CARDIOPATIA / DIABETES / DAS / PNEUMOPATIA',\n",
              "       'CARDIOPATIA / DIABETES / IMUNOSUPRESSÃO',\n",
              "       'HAS / DOENÇA NEUROLÓGICA / ALZHEIMER',\n",
              "       'CARDIOPATIA / DIABETES / DOENÇA NEUROLÓGICA / NEUROPATIA DIABETICA',\n",
              "       'CARDIOPARIA / DIABETES / PNEUMOPATIA',\n",
              "       'CARDIOPATIA / DIABETES / HAS / DOENÇA RENAL CRÔNICA',\n",
              "       'CARDIOPATIA / HAS / PACIENTE ONCOLÓGICO', 'DOENÇA CRÔNICA RENAL',\n",
              "       'CARDIOPATIA /DIABETES', 'CARIDIOPATIA / HAS',\n",
              "       'DIABETES / POLIARTRALGIA', 'ARTRITE REUMATÓIDE',\n",
              "       'HAS / ACIDENTE VASCULAR ENCEFÁLICO', 'EM IVESTIGAÇÃO',\n",
              "       'TROMBOSE ARTERIAL',\n",
              "       'DIABETES / HAS / EX TABAGISTA / DOENÇA PULMONAR OBSTRUTIVA',\n",
              "       'PNEUMOPATIA / IMUNOSUPRESSÃO',\n",
              "       'HAS / PACIENTE ONCOLÓGICO / NEOPLASTIA DE RETO',\n",
              "       'DISTURBIO MENTAL', 'PNEUMOPATIA / DOENÇA NEUROLÓGICA',\n",
              "       'HAS / DISLIPIDEMIA / COLICISTECTOMIA',\n",
              "       'HAS / DIABETES / PNEUMOPATIA',\n",
              "       'DOENÇA NEUROLÓGICA / DOENÇA HEPÁTICA CRÔNICA',\n",
              "       'OBESIDADE / DOENÇA NEUROLÓGICA', 'DIABETES / HAS / OUTROS',\n",
              "       'CARDIOPATIA / DOENÇA HEPATICA CRÔNICA',\n",
              "       'CARDIOPARIA / DIABETES / HAS',\n",
              "       'CARDIOPATIA / HAS / DOENÇA RENAL CRÔNICA', 'IMUNOSUPRESSÃO ',\n",
              "       'DIABETES / HAS / OBEDISADE',\n",
              "       'HAS / PNEUMOPATIA / HIPOTIREOIDISMO',\n",
              "       'DIABESTES / HAS / PNEUMOPATIA', 'HAS/ OBESIDADE',\n",
              "       'CARDIOPATIA / DOENÇ NEUROLÓGICA', 'DONEÇA NEUROLÓGICA',\n",
              "       'CARDIOPATIA / DIABETS', 'HAS / OUTROS',\n",
              "       'OBESIDADE / DOENÇA RENAL CRÔNICA',\n",
              "       'DIABETES / PNEUMOPATIA / IMUNODEPRESSÃO',\n",
              "       'CARDIOPATIA / DIABETES / HAS / DOENÇA RENAL CRÔNICA / DOENÇA NEUROLÓGICA',\n",
              "       'CARDIOPATIA /HAS', 'DIABETES / OBESIDADE ', 'PNEIMOPATIA', 'HAS ',\n",
              "       'DIABETES /HAS',\n",
              "       'CARDIOPATIA / DIABETES / HAS / PACIENTE ONCOLÓGICO / OBESIDADE',\n",
              "       'PACIENTE ONCOLÓGICO / DOENÇA NEUROLÓGICA', 'DOEÇA NEURLÓGICA',\n",
              "       'PACIENTE ONCOLÓGICO / IMUNOSUPRESSÃO', 'CARDIOPATIA / HAS /',\n",
              "       'EM INVESSTIGAÇÃO',\n",
              "       'CARDIOPATIA / HAS / DOENÇA RENAL CRÔNICA / PNEUMOPATIA',\n",
              "       'DIABETES / OBESIDADE / DONEÇA NEUROLÓGICA', 'PACIÊNTE ONCOLÓGICO',\n",
              "       'HAS / IMUNOSSUPRESSÃO', 'DOENÇA AUTOIMUNE',\n",
              "       'CARDIOPATIA / DIABETES / HAS / PACIENTE ONCOLÓGICO / DOENÇA NEUROLÓGICA',\n",
              "       'DOENÇA RENAL CRÔNICA / OUTROS', 'DABETES / HAS',\n",
              "       'CARDIOPATIA / DIABETES / HAS / PNEUMOPATIA / OUTROS',\n",
              "       'DIABETES / HAS / OBESIDADE/ PNEUMOPATIA',\n",
              "       'CARDIOPATIA / DIABETES / HAS / PACIENTE ONCOLÓGICO / DOENÇA RENAL CRÔNICA',\n",
              "       'CARDIOPATIA / DIABETES / DOENÇA NEUROLOLÓGICA',\n",
              "       'SEM COMORBIDADES', 'OBESIDADE / DOENÇA HEPÁTICA CRÔNICA',\n",
              "       'PNEUMOPATIA / OUTROS', 'HAS / OBESIDADE / OUTROS',\n",
              "       'HAS / OBESIDADE ',\n",
              "       'DOENÇA RENAL CRÔNICA / DOENÇA HEPÁTICA CRÔNICA',\n",
              "       'DIABETES / DONEÇA NEUROLÓGICA', 'DIABTES  / HAS',\n",
              "       'DIABTES  / HAS / OBESIDADE'], dtype=object)"
            ]
          },
          "metadata": {
            "tags": []
          },
          "execution_count": 569
        }
      ]
    },
    {
      "cell_type": "code",
      "metadata": {
        "id": "lw7I_D8uAeLI"
      },
      "source": [
        "filtro = (df['comorbidades'] == '44276') | (df['comorbidades'] == '44292')\n",
        "df.loc[filtro] = pd.NA"
      ],
      "execution_count": 570,
      "outputs": []
    },
    {
      "cell_type": "code",
      "metadata": {
        "id": "h05CgYpw6WGS"
      },
      "source": [
        "df_comorbidades = df.comorbidades.str.split(r' / |/|,|, ', expand=True)"
      ],
      "execution_count": 571,
      "outputs": []
    },
    {
      "cell_type": "code",
      "metadata": {
        "colab": {
          "base_uri": "https://localhost:8080/",
          "height": 363
        },
        "id": "1VDj_-e7H0rs",
        "outputId": "221cada0-5c64-4dc4-827f-f3477440f256"
      },
      "source": [
        "#cada indivíduo possui nos dados de 1-8 comorbidades informadas\n",
        "df_comorbidades.head(10)"
      ],
      "execution_count": 572,
      "outputs": [
        {
          "output_type": "execute_result",
          "data": {
            "text/html": [
              "<div>\n",
              "<style scoped>\n",
              "    .dataframe tbody tr th:only-of-type {\n",
              "        vertical-align: middle;\n",
              "    }\n",
              "\n",
              "    .dataframe tbody tr th {\n",
              "        vertical-align: top;\n",
              "    }\n",
              "\n",
              "    .dataframe thead th {\n",
              "        text-align: right;\n",
              "    }\n",
              "</style>\n",
              "<table border=\"1\" class=\"dataframe\">\n",
              "  <thead>\n",
              "    <tr style=\"text-align: right;\">\n",
              "      <th></th>\n",
              "      <th>0</th>\n",
              "      <th>1</th>\n",
              "      <th>2</th>\n",
              "      <th>3</th>\n",
              "      <th>4</th>\n",
              "      <th>5</th>\n",
              "      <th>6</th>\n",
              "      <th>7</th>\n",
              "    </tr>\n",
              "  </thead>\n",
              "  <tbody>\n",
              "    <tr>\n",
              "      <th>0</th>\n",
              "      <td>SEM COMORBIDADE</td>\n",
              "      <td>None</td>\n",
              "      <td>None</td>\n",
              "      <td>None</td>\n",
              "      <td>None</td>\n",
              "      <td>None</td>\n",
              "      <td>None</td>\n",
              "      <td>None</td>\n",
              "    </tr>\n",
              "    <tr>\n",
              "      <th>1</th>\n",
              "      <td>DOENÇA PULMONAR CRÔNICA</td>\n",
              "      <td>None</td>\n",
              "      <td>None</td>\n",
              "      <td>None</td>\n",
              "      <td>None</td>\n",
              "      <td>None</td>\n",
              "      <td>None</td>\n",
              "      <td>None</td>\n",
              "    </tr>\n",
              "    <tr>\n",
              "      <th>2</th>\n",
              "      <td>NaN</td>\n",
              "      <td>NaN</td>\n",
              "      <td>NaN</td>\n",
              "      <td>NaN</td>\n",
              "      <td>NaN</td>\n",
              "      <td>NaN</td>\n",
              "      <td>NaN</td>\n",
              "      <td>NaN</td>\n",
              "    </tr>\n",
              "    <tr>\n",
              "      <th>3</th>\n",
              "      <td>NaN</td>\n",
              "      <td>NaN</td>\n",
              "      <td>NaN</td>\n",
              "      <td>NaN</td>\n",
              "      <td>NaN</td>\n",
              "      <td>NaN</td>\n",
              "      <td>NaN</td>\n",
              "      <td>NaN</td>\n",
              "    </tr>\n",
              "    <tr>\n",
              "      <th>4</th>\n",
              "      <td>NaN</td>\n",
              "      <td>NaN</td>\n",
              "      <td>NaN</td>\n",
              "      <td>NaN</td>\n",
              "      <td>NaN</td>\n",
              "      <td>NaN</td>\n",
              "      <td>NaN</td>\n",
              "      <td>NaN</td>\n",
              "    </tr>\n",
              "    <tr>\n",
              "      <th>5</th>\n",
              "      <td>NaN</td>\n",
              "      <td>NaN</td>\n",
              "      <td>NaN</td>\n",
              "      <td>NaN</td>\n",
              "      <td>NaN</td>\n",
              "      <td>NaN</td>\n",
              "      <td>NaN</td>\n",
              "      <td>NaN</td>\n",
              "    </tr>\n",
              "    <tr>\n",
              "      <th>6</th>\n",
              "      <td>NaN</td>\n",
              "      <td>NaN</td>\n",
              "      <td>NaN</td>\n",
              "      <td>NaN</td>\n",
              "      <td>NaN</td>\n",
              "      <td>NaN</td>\n",
              "      <td>NaN</td>\n",
              "      <td>NaN</td>\n",
              "    </tr>\n",
              "    <tr>\n",
              "      <th>7</th>\n",
              "      <td>NaN</td>\n",
              "      <td>NaN</td>\n",
              "      <td>NaN</td>\n",
              "      <td>NaN</td>\n",
              "      <td>NaN</td>\n",
              "      <td>NaN</td>\n",
              "      <td>NaN</td>\n",
              "      <td>NaN</td>\n",
              "    </tr>\n",
              "    <tr>\n",
              "      <th>8</th>\n",
              "      <td>HAS</td>\n",
              "      <td>None</td>\n",
              "      <td>None</td>\n",
              "      <td>None</td>\n",
              "      <td>None</td>\n",
              "      <td>None</td>\n",
              "      <td>None</td>\n",
              "      <td>None</td>\n",
              "    </tr>\n",
              "    <tr>\n",
              "      <th>9</th>\n",
              "      <td>ASMA</td>\n",
              "      <td>None</td>\n",
              "      <td>None</td>\n",
              "      <td>None</td>\n",
              "      <td>None</td>\n",
              "      <td>None</td>\n",
              "      <td>None</td>\n",
              "      <td>None</td>\n",
              "    </tr>\n",
              "  </tbody>\n",
              "</table>\n",
              "</div>"
            ],
            "text/plain": [
              "                         0     1     2     3     4     5     6     7\n",
              "0          SEM COMORBIDADE  None  None  None  None  None  None  None\n",
              "1  DOENÇA PULMONAR CRÔNICA  None  None  None  None  None  None  None\n",
              "2                      NaN   NaN   NaN   NaN   NaN   NaN   NaN   NaN\n",
              "3                      NaN   NaN   NaN   NaN   NaN   NaN   NaN   NaN\n",
              "4                      NaN   NaN   NaN   NaN   NaN   NaN   NaN   NaN\n",
              "5                      NaN   NaN   NaN   NaN   NaN   NaN   NaN   NaN\n",
              "6                      NaN   NaN   NaN   NaN   NaN   NaN   NaN   NaN\n",
              "7                      NaN   NaN   NaN   NaN   NaN   NaN   NaN   NaN\n",
              "8                      HAS  None  None  None  None  None  None  None\n",
              "9                     ASMA  None  None  None  None  None  None  None"
            ]
          },
          "metadata": {
            "tags": []
          },
          "execution_count": 572
        }
      ]
    },
    {
      "cell_type": "code",
      "metadata": {
        "id": "JRqT3IlfXyNQ"
      },
      "source": [
        "#ajuste dos nomes das colunas\n",
        "df_comorbidades = df_comorbidades.rename(columns={\n",
        "    0:\"comorbidade 1\",\n",
        "    1:\"comorbidade 2\",\n",
        "    2:\"comorbidade 3\",\n",
        "    3:\"comorbidade 4\",\n",
        "    4:\"comorbidade 5\",\n",
        "    5:\"comorbidade 6\",\n",
        "    6:\"comorbidade 7\",\n",
        "    7:\"comorbidade 8\"\n",
        "})"
      ],
      "execution_count": 573,
      "outputs": []
    },
    {
      "cell_type": "code",
      "metadata": {
        "colab": {
          "base_uri": "https://localhost:8080/",
          "height": 433
        },
        "id": "eKPG9ubYmaMH",
        "outputId": "81266dd5-877c-4a01-bf76-0cddf1fec4e8"
      },
      "source": [
        "df_comorbidades.head(10)"
      ],
      "execution_count": 574,
      "outputs": [
        {
          "output_type": "execute_result",
          "data": {
            "text/html": [
              "<div>\n",
              "<style scoped>\n",
              "    .dataframe tbody tr th:only-of-type {\n",
              "        vertical-align: middle;\n",
              "    }\n",
              "\n",
              "    .dataframe tbody tr th {\n",
              "        vertical-align: top;\n",
              "    }\n",
              "\n",
              "    .dataframe thead th {\n",
              "        text-align: right;\n",
              "    }\n",
              "</style>\n",
              "<table border=\"1\" class=\"dataframe\">\n",
              "  <thead>\n",
              "    <tr style=\"text-align: right;\">\n",
              "      <th></th>\n",
              "      <th>comorbidade 1</th>\n",
              "      <th>comorbidade 2</th>\n",
              "      <th>comorbidade 3</th>\n",
              "      <th>comorbidade 4</th>\n",
              "      <th>comorbidade 5</th>\n",
              "      <th>comorbidade 6</th>\n",
              "      <th>comorbidade 7</th>\n",
              "      <th>comorbidade 8</th>\n",
              "    </tr>\n",
              "  </thead>\n",
              "  <tbody>\n",
              "    <tr>\n",
              "      <th>0</th>\n",
              "      <td>SEM COMORBIDADE</td>\n",
              "      <td>None</td>\n",
              "      <td>None</td>\n",
              "      <td>None</td>\n",
              "      <td>None</td>\n",
              "      <td>None</td>\n",
              "      <td>None</td>\n",
              "      <td>None</td>\n",
              "    </tr>\n",
              "    <tr>\n",
              "      <th>1</th>\n",
              "      <td>DOENÇA PULMONAR CRÔNICA</td>\n",
              "      <td>None</td>\n",
              "      <td>None</td>\n",
              "      <td>None</td>\n",
              "      <td>None</td>\n",
              "      <td>None</td>\n",
              "      <td>None</td>\n",
              "      <td>None</td>\n",
              "    </tr>\n",
              "    <tr>\n",
              "      <th>2</th>\n",
              "      <td>NaN</td>\n",
              "      <td>NaN</td>\n",
              "      <td>NaN</td>\n",
              "      <td>NaN</td>\n",
              "      <td>NaN</td>\n",
              "      <td>NaN</td>\n",
              "      <td>NaN</td>\n",
              "      <td>NaN</td>\n",
              "    </tr>\n",
              "    <tr>\n",
              "      <th>3</th>\n",
              "      <td>NaN</td>\n",
              "      <td>NaN</td>\n",
              "      <td>NaN</td>\n",
              "      <td>NaN</td>\n",
              "      <td>NaN</td>\n",
              "      <td>NaN</td>\n",
              "      <td>NaN</td>\n",
              "      <td>NaN</td>\n",
              "    </tr>\n",
              "    <tr>\n",
              "      <th>4</th>\n",
              "      <td>NaN</td>\n",
              "      <td>NaN</td>\n",
              "      <td>NaN</td>\n",
              "      <td>NaN</td>\n",
              "      <td>NaN</td>\n",
              "      <td>NaN</td>\n",
              "      <td>NaN</td>\n",
              "      <td>NaN</td>\n",
              "    </tr>\n",
              "    <tr>\n",
              "      <th>5</th>\n",
              "      <td>NaN</td>\n",
              "      <td>NaN</td>\n",
              "      <td>NaN</td>\n",
              "      <td>NaN</td>\n",
              "      <td>NaN</td>\n",
              "      <td>NaN</td>\n",
              "      <td>NaN</td>\n",
              "      <td>NaN</td>\n",
              "    </tr>\n",
              "    <tr>\n",
              "      <th>6</th>\n",
              "      <td>NaN</td>\n",
              "      <td>NaN</td>\n",
              "      <td>NaN</td>\n",
              "      <td>NaN</td>\n",
              "      <td>NaN</td>\n",
              "      <td>NaN</td>\n",
              "      <td>NaN</td>\n",
              "      <td>NaN</td>\n",
              "    </tr>\n",
              "    <tr>\n",
              "      <th>7</th>\n",
              "      <td>NaN</td>\n",
              "      <td>NaN</td>\n",
              "      <td>NaN</td>\n",
              "      <td>NaN</td>\n",
              "      <td>NaN</td>\n",
              "      <td>NaN</td>\n",
              "      <td>NaN</td>\n",
              "      <td>NaN</td>\n",
              "    </tr>\n",
              "    <tr>\n",
              "      <th>8</th>\n",
              "      <td>HAS</td>\n",
              "      <td>None</td>\n",
              "      <td>None</td>\n",
              "      <td>None</td>\n",
              "      <td>None</td>\n",
              "      <td>None</td>\n",
              "      <td>None</td>\n",
              "      <td>None</td>\n",
              "    </tr>\n",
              "    <tr>\n",
              "      <th>9</th>\n",
              "      <td>ASMA</td>\n",
              "      <td>None</td>\n",
              "      <td>None</td>\n",
              "      <td>None</td>\n",
              "      <td>None</td>\n",
              "      <td>None</td>\n",
              "      <td>None</td>\n",
              "      <td>None</td>\n",
              "    </tr>\n",
              "  </tbody>\n",
              "</table>\n",
              "</div>"
            ],
            "text/plain": [
              "             comorbidade 1 comorbidade 2  ... comorbidade 7 comorbidade 8\n",
              "0          SEM COMORBIDADE          None  ...          None          None\n",
              "1  DOENÇA PULMONAR CRÔNICA          None  ...          None          None\n",
              "2                      NaN           NaN  ...           NaN           NaN\n",
              "3                      NaN           NaN  ...           NaN           NaN\n",
              "4                      NaN           NaN  ...           NaN           NaN\n",
              "5                      NaN           NaN  ...           NaN           NaN\n",
              "6                      NaN           NaN  ...           NaN           NaN\n",
              "7                      NaN           NaN  ...           NaN           NaN\n",
              "8                      HAS          None  ...          None          None\n",
              "9                     ASMA          None  ...          None          None\n",
              "\n",
              "[10 rows x 8 columns]"
            ]
          },
          "metadata": {
            "tags": []
          },
          "execution_count": 574
        }
      ]
    },
    {
      "cell_type": "code",
      "metadata": {
        "id": "5Mk79HiTnZ8S"
      },
      "source": [
        "#trocar None para NaN\n",
        "df_comorbidades = df_comorbidades.fillna(value=np.NaN)"
      ],
      "execution_count": 575,
      "outputs": []
    },
    {
      "cell_type": "code",
      "metadata": {
        "colab": {
          "base_uri": "https://localhost:8080/"
        },
        "id": "2l0yj_9upEcA",
        "outputId": "06e12f9a-035c-406c-b482-9b814d84599b"
      },
      "source": [
        "df_comorbidades.iloc[50] # indivíduo #50 possui Fribrose Pulmonar, DM, Has como comorbidades"
      ],
      "execution_count": 576,
      "outputs": [
        {
          "output_type": "execute_result",
          "data": {
            "text/plain": [
              "comorbidade 1    FIBROSE PULMONAR\n",
              "comorbidade 2                  DM\n",
              "comorbidade 3                 HAS\n",
              "comorbidade 4                 NaN\n",
              "comorbidade 5                 NaN\n",
              "comorbidade 6                 NaN\n",
              "comorbidade 7                 NaN\n",
              "comorbidade 8                 NaN\n",
              "Name: 50, dtype: object"
            ]
          },
          "metadata": {
            "tags": []
          },
          "execution_count": 576
        }
      ]
    },
    {
      "cell_type": "markdown",
      "metadata": {
        "id": "1bbwcxZlTp8p"
      },
      "source": [
        "#### campo situacao_paciente"
      ]
    },
    {
      "cell_type": "code",
      "metadata": {
        "colab": {
          "base_uri": "https://localhost:8080/"
        },
        "id": "uKPSmvR6so3Z",
        "outputId": "0042e854-cf5b-4fe1-883b-c68321dfcae7"
      },
      "source": [
        "#'hopitalizado' precisa ser mudado para 'HOSPITALIZADO'\n",
        "df['situacao_paciente'].unique()"
      ],
      "execution_count": 577,
      "outputs": [
        {
          "output_type": "execute_result",
          "data": {
            "text/plain": [
              "array(['RECUPERADO', 'ÓBITO', 'HOSPITALIZADO', <NA>,\n",
              "       'ÓBITO POR OUTRAS CAUSAS', 'ISOLAMENTO DOMICILIAR'], dtype=object)"
            ]
          },
          "metadata": {
            "tags": []
          },
          "execution_count": 577
        }
      ]
    },
    {
      "cell_type": "code",
      "metadata": {
        "id": "j65BG0F6stE4"
      },
      "source": [
        "filtro = df.situacao_paciente == 'Hospitalizado' \n",
        "df.loc[filtro] = 'HOSPITALIZADO'"
      ],
      "execution_count": 578,
      "outputs": []
    },
    {
      "cell_type": "code",
      "metadata": {
        "colab": {
          "base_uri": "https://localhost:8080/"
        },
        "id": "q-5u5N80tu7y",
        "outputId": "97bc8e3d-8543-4cec-9760-019886e17af5"
      },
      "source": [
        "df['situacao_paciente'].unique()"
      ],
      "execution_count": 579,
      "outputs": [
        {
          "output_type": "execute_result",
          "data": {
            "text/plain": [
              "array(['RECUPERADO', 'ÓBITO', 'HOSPITALIZADO', <NA>,\n",
              "       'ÓBITO POR OUTRAS CAUSAS', 'ISOLAMENTO DOMICILIAR'], dtype=object)"
            ]
          },
          "metadata": {
            "tags": []
          },
          "execution_count": 579
        }
      ]
    },
    {
      "cell_type": "markdown",
      "metadata": {
        "id": "F16o847gDm0s"
      },
      "source": [
        "#### Juntando todas as comorbidades em uma coluna "
      ]
    },
    {
      "cell_type": "code",
      "metadata": {
        "id": "szlasfYkzE30"
      },
      "source": [
        "df_comorbidades_juntas = pd.DataFrame(\n",
        "    {\n",
        "        \"comorbidades\": []\n",
        "    }\n",
        ")"
      ],
      "execution_count": 580,
      "outputs": []
    },
    {
      "cell_type": "code",
      "metadata": {
        "id": "XlhEvVyR68dh"
      },
      "source": [
        "df_comorbidades_juntas['comorbidades'] = pd.concat([df_comorbidades_juntas['comorbidades'],\n",
        "                                                    df_comorbidades['comorbidade 1'],\n",
        "                                                    df_comorbidades['comorbidade 2'],\n",
        "                                                    df_comorbidades['comorbidade 3'],\n",
        "                                                    df_comorbidades['comorbidade 4'],\n",
        "                                                    df_comorbidades['comorbidade 5'],\n",
        "                                                    df_comorbidades['comorbidade 6'],\n",
        "                                                    df_comorbidades['comorbidade 7'],\n",
        "                                                    df_comorbidades['comorbidade 8']],\n",
        "                                                    axis=0)\n"
      ],
      "execution_count": 581,
      "outputs": []
    },
    {
      "cell_type": "code",
      "metadata": {
        "colab": {
          "base_uri": "https://localhost:8080/",
          "height": 424
        },
        "id": "sM1dAgC3764X",
        "outputId": "163f9abc-0432-456c-db2c-124d66a08940"
      },
      "source": [
        "df_comorbidades_juntas"
      ],
      "execution_count": 582,
      "outputs": [
        {
          "output_type": "execute_result",
          "data": {
            "text/html": [
              "<div>\n",
              "<style scoped>\n",
              "    .dataframe tbody tr th:only-of-type {\n",
              "        vertical-align: middle;\n",
              "    }\n",
              "\n",
              "    .dataframe tbody tr th {\n",
              "        vertical-align: top;\n",
              "    }\n",
              "\n",
              "    .dataframe thead th {\n",
              "        text-align: right;\n",
              "    }\n",
              "</style>\n",
              "<table border=\"1\" class=\"dataframe\">\n",
              "  <thead>\n",
              "    <tr style=\"text-align: right;\">\n",
              "      <th></th>\n",
              "      <th>comorbidades</th>\n",
              "    </tr>\n",
              "  </thead>\n",
              "  <tbody>\n",
              "    <tr>\n",
              "      <th>0</th>\n",
              "      <td>SEM COMORBIDADE</td>\n",
              "    </tr>\n",
              "    <tr>\n",
              "      <th>1</th>\n",
              "      <td>DOENÇA PULMONAR CRÔNICA</td>\n",
              "    </tr>\n",
              "    <tr>\n",
              "      <th>2</th>\n",
              "      <td>NaN</td>\n",
              "    </tr>\n",
              "    <tr>\n",
              "      <th>3</th>\n",
              "      <td>NaN</td>\n",
              "    </tr>\n",
              "    <tr>\n",
              "      <th>4</th>\n",
              "      <td>NaN</td>\n",
              "    </tr>\n",
              "    <tr>\n",
              "      <th>...</th>\n",
              "      <td>...</td>\n",
              "    </tr>\n",
              "    <tr>\n",
              "      <th>227895</th>\n",
              "      <td>NaN</td>\n",
              "    </tr>\n",
              "    <tr>\n",
              "      <th>227896</th>\n",
              "      <td>NaN</td>\n",
              "    </tr>\n",
              "    <tr>\n",
              "      <th>227897</th>\n",
              "      <td>NaN</td>\n",
              "    </tr>\n",
              "    <tr>\n",
              "      <th>227898</th>\n",
              "      <td>NaN</td>\n",
              "    </tr>\n",
              "    <tr>\n",
              "      <th>227899</th>\n",
              "      <td>NaN</td>\n",
              "    </tr>\n",
              "  </tbody>\n",
              "</table>\n",
              "<p>1823200 rows × 1 columns</p>\n",
              "</div>"
            ],
            "text/plain": [
              "                   comorbidades\n",
              "0               SEM COMORBIDADE\n",
              "1       DOENÇA PULMONAR CRÔNICA\n",
              "2                           NaN\n",
              "3                           NaN\n",
              "4                           NaN\n",
              "...                         ...\n",
              "227895                      NaN\n",
              "227896                      NaN\n",
              "227897                      NaN\n",
              "227898                      NaN\n",
              "227899                      NaN\n",
              "\n",
              "[1823200 rows x 1 columns]"
            ]
          },
          "metadata": {
            "tags": []
          },
          "execution_count": 582
        }
      ]
    },
    {
      "cell_type": "code",
      "metadata": {
        "colab": {
          "base_uri": "https://localhost:8080/",
          "height": 424
        },
        "id": "_GUl8qReCVds",
        "outputId": "1d4f92e9-8210-4d1b-c1ac-dd6431c3df15"
      },
      "source": [
        "df_comorbidades_juntas.dropna()"
      ],
      "execution_count": 583,
      "outputs": [
        {
          "output_type": "execute_result",
          "data": {
            "text/html": [
              "<div>\n",
              "<style scoped>\n",
              "    .dataframe tbody tr th:only-of-type {\n",
              "        vertical-align: middle;\n",
              "    }\n",
              "\n",
              "    .dataframe tbody tr th {\n",
              "        vertical-align: top;\n",
              "    }\n",
              "\n",
              "    .dataframe thead th {\n",
              "        text-align: right;\n",
              "    }\n",
              "</style>\n",
              "<table border=\"1\" class=\"dataframe\">\n",
              "  <thead>\n",
              "    <tr style=\"text-align: right;\">\n",
              "      <th></th>\n",
              "      <th>comorbidades</th>\n",
              "    </tr>\n",
              "  </thead>\n",
              "  <tbody>\n",
              "    <tr>\n",
              "      <th>0</th>\n",
              "      <td>SEM COMORBIDADE</td>\n",
              "    </tr>\n",
              "    <tr>\n",
              "      <th>1</th>\n",
              "      <td>DOENÇA PULMONAR CRÔNICA</td>\n",
              "    </tr>\n",
              "    <tr>\n",
              "      <th>8</th>\n",
              "      <td>HAS</td>\n",
              "    </tr>\n",
              "    <tr>\n",
              "      <th>9</th>\n",
              "      <td>ASMA</td>\n",
              "    </tr>\n",
              "    <tr>\n",
              "      <th>15</th>\n",
              "      <td>HAS</td>\n",
              "    </tr>\n",
              "    <tr>\n",
              "      <th>...</th>\n",
              "      <td>...</td>\n",
              "    </tr>\n",
              "    <tr>\n",
              "      <th>195934</th>\n",
              "      <td>DOENÇA RENAL CRÔNICA</td>\n",
              "    </tr>\n",
              "    <tr>\n",
              "      <th>56</th>\n",
              "      <td>ANEMIA</td>\n",
              "    </tr>\n",
              "    <tr>\n",
              "      <th>7324</th>\n",
              "      <td>ASMA</td>\n",
              "    </tr>\n",
              "    <tr>\n",
              "      <th>56</th>\n",
              "      <td>HIPERPLASIA PROSTATICA</td>\n",
              "    </tr>\n",
              "    <tr>\n",
              "      <th>56</th>\n",
              "      <td>EX TABAGISTE E ETILISTA</td>\n",
              "    </tr>\n",
              "  </tbody>\n",
              "</table>\n",
              "<p>8846 rows × 1 columns</p>\n",
              "</div>"
            ],
            "text/plain": [
              "                   comorbidades\n",
              "0               SEM COMORBIDADE\n",
              "1       DOENÇA PULMONAR CRÔNICA\n",
              "8                           HAS\n",
              "9                          ASMA\n",
              "15                          HAS\n",
              "...                         ...\n",
              "195934     DOENÇA RENAL CRÔNICA\n",
              "56                       ANEMIA\n",
              "7324                       ASMA\n",
              "56       HIPERPLASIA PROSTATICA\n",
              "56      EX TABAGISTE E ETILISTA\n",
              "\n",
              "[8846 rows x 1 columns]"
            ]
          },
          "metadata": {
            "tags": []
          },
          "execution_count": 583
        }
      ]
    },
    {
      "cell_type": "markdown",
      "metadata": {
        "id": "kXx8glN4HyGo"
      },
      "source": [
        "#### campo comorbidades (df_comorbidades_juntas)"
      ]
    },
    {
      "cell_type": "code",
      "metadata": {
        "colab": {
          "base_uri": "https://localhost:8080/"
        },
        "id": "oMsaKm7gH-Sx",
        "outputId": "dc45aba9-0a80-44ab-f3a1-22d933bece93"
      },
      "source": [
        "df_comorbidades_juntas.comorbidades.groupby(df_comorbidades_juntas['comorbidades']).count().head(50)"
      ],
      "execution_count": null,
      "outputs": [
        {
          "output_type": "execute_result",
          "data": {
            "text/plain": [
              "comorbidades\n",
              "                                                                            1\n",
              "  HAS                                                                       1\n",
              " 4 OU 5)                                                                    2\n",
              " 4 ou 5)                                                                    4\n",
              " ANQUILOSE                                                                  1\n",
              " CARDIOPATIA                                                                3\n",
              " D. CARCIACA CRÔNICAS                                                       1\n",
              " D. CARDIACA CRÔNICA                                                        1\n",
              " DIABETES                                                                   6\n",
              " DM                                                                         1\n",
              " DOENÇA CARD. CRONICA                                                       1\n",
              " DOENÇA CARDIACA                                                            1\n",
              " DOENÇA NEROLÓGICA                                                          1\n",
              " DOENÇA NEUROLÓGICA                                                         1\n",
              " DOENÇA RENAL CRÔNICA                                                       2\n",
              " DOENÇAS CARDIACAS CRONICAS                                                 1\n",
              " DOENÇAS CARDIACAS CRÔNICAS                                                 4\n",
              " DOENÇAS CARDIACAS CRÔNICAS                                                 1\n",
              " DOENÇAS CARDIACAS CRÔNICAS DESCOMPENSADAS                                  1\n",
              " DOENÇAS CARDIADAS CRÔNICAS                                                 1\n",
              " DOENÇAS CARDÍACAS CRÔNICAS                                                 1\n",
              " DOENÇAS RENAIS CRÔNICAS EM ESTAGIO AVANÇADO                                1\n",
              " DOENÇAS RENAIS CRÔNICAS EM ESTÁGIO AVANÇADO (GRAUS 3                       2\n",
              " Diabetes                                                                   2\n",
              " Doenças cardíacas crônicas                                                 3\n",
              " Doenças renais crônicas em estágio avançado (graus 3                       1\n",
              " HAS                                                                        1\n",
              " IMOBILIDADE                                                                1\n",
              " IMUNOSSUPRESSÃO                                                            2\n",
              " OBESIDADE                                                                  2\n",
              " OBESIDADE E ASMA                                                           1\n",
              " PARALISIA CEREBRAL                                                         1\n",
              " PARKINSON                                                                  1\n",
              " PNEUMOPATIA                                                                1\n",
              " PORTADOR DE DOENÇAS CROMOSSÓMICAS OU ESTADO DE FRAGILIDADE IMUNOLÓGICA     1\n",
              "4                                                                           1\n",
              "5)                                                                          1\n",
              "ACIDENTE VASCULAR ENCEFÁLICO                                                1\n",
              "ALZHEIMER                                                                   8\n",
              "ANEMIA                                                                      1\n",
              "ANEURISMA DE AORTA ABDOMINAL                                                1\n",
              "ANOREXIA                                                                    1\n",
              "ARTRITE                                                                     1\n",
              "ARTRITE REUMATÓIDE                                                          2\n",
              "ASMA                                                                       13\n",
              "AVC                                                                         5\n",
              "AVE                                                                         2\n",
              "AVE DOENÇA PULMONAR OBSTRUTIVA CRÔNICA                                      1\n",
              "CADIOPATA                                                                   1\n",
              "CADIOPATIA                                                                  6\n",
              "Name: comorbidades, dtype: int64"
            ]
          },
          "metadata": {
            "tags": []
          },
          "execution_count": 421
        }
      ]
    },
    {
      "cell_type": "code",
      "metadata": {
        "id": "OQZh5O0TIE0c"
      },
      "source": [
        "filter = df_comorbidades_juntas['comorbidades'].isin(['4', '5)', ' 4 OU 5)', ' 4 ou 5)'])\n",
        "df_comorbidades_juntas['comorbidades'].loc[filter] = pd.NA"
      ],
      "execution_count": null,
      "outputs": []
    },
    {
      "cell_type": "code",
      "metadata": {
        "id": "X1hX05flItOh"
      },
      "source": [
        "df_comorbidades_juntas.comorbidades = df_comorbidades_juntas.comorbidades.str.upper()"
      ],
      "execution_count": null,
      "outputs": []
    },
    {
      "cell_type": "code",
      "metadata": {
        "colab": {
          "base_uri": "https://localhost:8080/"
        },
        "id": "YBxe6dSRJjpy",
        "outputId": "ef9acda4-6086-42c3-b696-41b1d7353403"
      },
      "source": [
        "df_comorbidades_juntas.comorbidades.groupby(df_comorbidades_juntas['comorbidades']).count().head(50)"
      ],
      "execution_count": null,
      "outputs": [
        {
          "output_type": "execute_result",
          "data": {
            "text/plain": [
              "comorbidades\n",
              "                                                                             1\n",
              "  HAS                                                                        1\n",
              " ANQUILOSE                                                                   1\n",
              " CARDIOPATIA                                                                 3\n",
              " D. CARCIACA CRÔNICAS                                                        1\n",
              " D. CARDIACA CRÔNICA                                                         1\n",
              " DIABETES                                                                    8\n",
              " DM                                                                          1\n",
              " DOENÇA CARD. CRONICA                                                        1\n",
              " DOENÇA CARDIACA                                                             1\n",
              " DOENÇA NEROLÓGICA                                                           1\n",
              " DOENÇA NEUROLÓGICA                                                          1\n",
              " DOENÇA RENAL CRÔNICA                                                        2\n",
              " DOENÇAS CARDIACAS CRONICAS                                                  1\n",
              " DOENÇAS CARDIACAS CRÔNICAS                                                  4\n",
              " DOENÇAS CARDIACAS CRÔNICAS                                                  1\n",
              " DOENÇAS CARDIACAS CRÔNICAS DESCOMPENSADAS                                   1\n",
              " DOENÇAS CARDIADAS CRÔNICAS                                                  1\n",
              " DOENÇAS CARDÍACAS CRÔNICAS                                                  4\n",
              " DOENÇAS RENAIS CRÔNICAS EM ESTAGIO AVANÇADO                                 1\n",
              " DOENÇAS RENAIS CRÔNICAS EM ESTÁGIO AVANÇADO (GRAUS 3                        3\n",
              " HAS                                                                         1\n",
              " IMOBILIDADE                                                                 1\n",
              " IMUNOSSUPRESSÃO                                                             2\n",
              " OBESIDADE                                                                   2\n",
              " OBESIDADE E ASMA                                                            1\n",
              " PARALISIA CEREBRAL                                                          1\n",
              " PARKINSON                                                                   1\n",
              " PNEUMOPATIA                                                                 1\n",
              " PORTADOR DE DOENÇAS CROMOSSÓMICAS OU ESTADO DE FRAGILIDADE IMUNOLÓGICA      1\n",
              "ACIDENTE VASCULAR ENCEFÁLICO                                                 1\n",
              "ALZHEIMER                                                                    8\n",
              "ANEMIA                                                                       1\n",
              "ANEURISMA DE AORTA ABDOMINAL                                                 1\n",
              "ANOREXIA                                                                     1\n",
              "ARTRITE                                                                      1\n",
              "ARTRITE REUMATÓIDE                                                           2\n",
              "ASMA                                                                        13\n",
              "AVC                                                                          5\n",
              "AVE                                                                          2\n",
              "AVE DOENÇA PULMONAR OBSTRUTIVA CRÔNICA                                       1\n",
              "CADIOPATA                                                                    1\n",
              "CADIOPATIA                                                                   6\n",
              "CARDIOPARIA                                                                  3\n",
              "CARDIOPATIA                                                                917\n",
              "CARDIOPATIA                                                                  6\n",
              "CARDIOPATIO                                                                  1\n",
              "CARIDIOPATIA                                                                 1\n",
              "CARIOPATIA                                                                   1\n",
              "COLICISTECTOMIA                                                              1\n",
              "Name: comorbidades, dtype: int64"
            ]
          },
          "metadata": {
            "tags": []
          },
          "execution_count": 424
        }
      ]
    },
    {
      "cell_type": "markdown",
      "metadata": {
        "id": "85h1Zyj1EGFs"
      },
      "source": [
        "### Visualizações "
      ]
    },
    {
      "cell_type": "code",
      "metadata": {
        "id": "HLUfNDsDko7t"
      },
      "source": [
        "plt.style.use(\"seaborn\")"
      ],
      "execution_count": null,
      "outputs": []
    },
    {
      "cell_type": "markdown",
      "metadata": {
        "id": "QRNuEaLgE3eP"
      },
      "source": [
        "#### Diabetes é a comorbidade mais comum"
      ]
    },
    {
      "cell_type": "code",
      "metadata": {
        "colab": {
          "base_uri": "https://localhost:8080/"
        },
        "id": "3re2Fo3wPjq2",
        "outputId": "a87f75fe-afc7-4e98-ebca-5e26f61b9764"
      },
      "source": [
        "df_comorbidades_juntas['comorbidades'].value_counts()"
      ],
      "execution_count": null,
      "outputs": [
        {
          "output_type": "execute_result",
          "data": {
            "text/plain": [
              "DIABETES                          1930\n",
              "HAS                               1784\n",
              "SEM COMORBIDADE                   1401\n",
              "CARDIOPATIA                        917\n",
              "EM INVESTIGAÇÃO                    686\n",
              "                                  ... \n",
              "DABETES                              1\n",
              "PNEIMOPATIA                          1\n",
              "DOENÇAS CARDÍACAS CRÔNICAS\\n\\n       1\n",
              "DOENÇA CÁRDIACA CRÔNICA              1\n",
              "                                     1\n",
              "Name: comorbidades, Length: 223, dtype: int64"
            ]
          },
          "metadata": {
            "tags": []
          },
          "execution_count": 537
        }
      ]
    },
    {
      "cell_type": "code",
      "metadata": {
        "id": "_b946glukeUB"
      },
      "source": [
        "filter = df_comorbidades_juntas['comorbidades'].value_counts() > 100\n",
        "df_comorbidades_top = df_comorbidades_juntas['comorbidades'].value_counts()\n",
        "df_comorbidades_top = df_comorbidades_top.loc[filter]"
      ],
      "execution_count": null,
      "outputs": []
    },
    {
      "cell_type": "code",
      "metadata": {
        "colab": {
          "base_uri": "https://localhost:8080/",
          "height": 376
        },
        "id": "Z1Qbb2spk54B",
        "outputId": "a856da6e-6297-45f1-c630-650324c2d936"
      },
      "source": [
        "df_comorbidades_top.plot.barh(title=\"Comorbidades mais comuns entre os pacientes\")\n",
        "plt.xlabel(\"Ocorrência\")\n",
        "plt.ylabel(\"Comorbidades\")\n",
        "plt.savefig(\"Comorbidades mais comuns entre os pacientes.png\")"
      ],
      "execution_count": null,
      "outputs": [
        {
          "output_type": "display_data",
          "data": {
            "image/png": "[encoded data removed]",
            "text/plain": [
              "<Figure size 576x396 with 1 Axes>"
            ]
          },
          "metadata": {
            "tags": []
          }
        }
      ]
    },
    {
      "cell_type": "markdown",
      "metadata": {
        "id": "es70UrSSq97y"
      },
      "source": [
        "#### O Sexo Feminino foi o mais afetado"
      ]
    },
    {
      "cell_type": "code",
      "metadata": {
        "colab": {
          "base_uri": "https://localhost:8080/",
          "height": 374
        },
        "id": "l6l4j3HPP_0y",
        "outputId": "2a8f636a-db77-4980-b113-4a00e16c8fed"
      },
      "source": [
        "df['sexo'].value_counts().plot.bar(title=\"Quantidade de pacientes do sexo Masculino e Feminino\")\n",
        "plt.xlabel(\"Sexo\")\n",
        "plt.ylabel(\"Contagem\")\n",
        "plt.savefig(\"Quantidade de pacientes do sexo Masculino e Feminino.png\")"
      ],
      "execution_count": null,
      "outputs": [
        {
          "output_type": "display_data",
          "data": {
            "image/png": "[encoded data removed]",
            "text/plain": [
              "<Figure size 576x396 with 1 Axes>"
            ]
          },
          "metadata": {
            "tags": []
          }
        }
      ]
    },
    {
      "cell_type": "markdown",
      "metadata": {
        "id": "zmrs1cpJrQdo"
      },
      "source": [
        "#### Situação dos Pacientes por porcentagens"
      ]
    },
    {
      "cell_type": "code",
      "metadata": {
        "colab": {
          "base_uri": "https://localhost:8080/",
          "height": 345
        },
        "id": "-_j7MWYiTHwz",
        "outputId": "a3fa60ac-d0cf-4cab-f761-e28385b990a8"
      },
      "source": [
        "df.groupby(df['situacao_paciente'])['situacao_paciente'].count().plot.pie(title=\"Situação dos Pacientes\")\n",
        "plt.savefig(\"Situação dos Pacientes.png\")"
      ],
      "execution_count": null,
      "outputs": [
        {
          "output_type": "display_data",
          "data": {
            "image/png": "[encoded data removed]",
            "text/plain": [
              "<Figure size 576x396 with 1 Axes>"
            ]
          },
          "metadata": {
            "tags": []
          }
        }
      ]
    },
    {
      "cell_type": "markdown",
      "metadata": {
        "id": "pQ47QXgXsMB7"
      },
      "source": [
        "#### Maceió e Arapiraca são os municípios com mais casos"
      ]
    },
    {
      "cell_type": "code",
      "metadata": {
        "id": "ijMPsuVebffh"
      },
      "source": [
        "filter = df.groupby(df.municipio_residencia)['municipio_residencia'].count() > 2000\n",
        "df_municipios_cont = df.groupby(df.municipio_residencia)['municipio_residencia'].count()\n",
        "df_municipios_cont = df_municipios_cont.loc[filter]"
      ],
      "execution_count": null,
      "outputs": []
    },
    {
      "cell_type": "code",
      "metadata": {
        "colab": {
          "base_uri": "https://localhost:8080/",
          "height": 376
        },
        "id": "buy0RIsLh9ei",
        "outputId": "14eb70fe-2c8e-490d-96b5-a06439b4f273"
      },
      "source": [
        "df_municipios_cont.plot.barh(title=\"Municípios com mais de 2000 casos\")\n",
        "plt.xlabel(\"Número de casos\")\n",
        "plt.ylabel(\"Municípios\")\n",
        "plt.savefig(\"Municípios com mais de 2000 casos.png\")"
      ],
      "execution_count": 586,
      "outputs": [
        {
          "output_type": "display_data",
          "data": {
            "image/png": "[encoded data removed]",
            "text/plain": [
              "<Figure size 576x396 with 1 Axes>"
            ]
          },
          "metadata": {
            "tags": []
          }
        }
      ]
    },
    {
      "cell_type": "markdown",
      "metadata": {
        "id": "_Pq82GSFsuK_"
      },
      "source": [
        "#### O Centro de Maceió e a Zona Rural lideram o número de casos por bairro no Estado"
      ]
    },
    {
      "cell_type": "code",
      "metadata": {
        "id": "QEUe0mX0iwZ4"
      },
      "source": [
        "filter = df.groupby(df.bairro)['bairro'].count() > 2000\n",
        "df_bairros_cont = df.groupby(df.bairro)['bairro'].count()\n",
        "df_bairros_cont = df_bairros_cont.loc[filter]"
      ],
      "execution_count": null,
      "outputs": []
    },
    {
      "cell_type": "code",
      "metadata": {
        "colab": {
          "base_uri": "https://localhost:8080/",
          "height": 376
        },
        "id": "x0MgT_z4izHN",
        "outputId": "1e1377b0-e439-4e66-d772-31bbb211d564"
      },
      "source": [
        "df_bairros_cont.plot.barh(title=\"Bairros do Estado com mais de 2000 casos\")\n",
        "plt.xlabel(\"Número de casos\")\n",
        "plt.ylabel(\"Bairros (de todas as cidades)\")\n",
        "plt.savefig(\"Bairros do Estado com mais de 2000 casos.png\")"
      ],
      "execution_count": null,
      "outputs": [
        {
          "output_type": "display_data",
          "data": {
            "image/png": "[encoded data removed]",
            "text/plain": [
              "<Figure size 576x396 with 1 Axes>"
            ]
          },
          "metadata": {
            "tags": []
          }
        }
      ]
    },
    {
      "cell_type": "code",
      "metadata": {
        "id": "VrB0J2lBjqW1"
      },
      "source": [
        ""
      ],
      "execution_count": null,
      "outputs": []
    }
  ]
}